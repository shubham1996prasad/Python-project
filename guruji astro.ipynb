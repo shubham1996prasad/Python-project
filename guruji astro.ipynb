{
 "cells": [
  {
   "cell_type": "code",
   "execution_count": 1,
   "id": "108bd19e-fd63-4099-a7c3-c35784afa58e",
   "metadata": {},
   "outputs": [],
   "source": [
    "import pandas as pd\n",
    "import matplotlib.pyplot as plt\n",
    "import numpy as np\n",
    "import seaborn as sns\n",
    "import plotly.express as px\n",
    "from warnings import filterwarnings\n",
    "filterwarnings (\"ignore\")\n",
    "import missingno as msno\n",
    "from IPython.core.interactiveshell import InteractiveShell\n",
    "InteractiveShell.ast_node_interactivity=\"all\"\n",
    "\n",
    "pd.set_option('display.max.rows',230)\n",
    "pd.set_option('display.max.columns',230)"
   ]
  },
  {
   "cell_type": "markdown",
   "id": "8d9cc65e-55fa-456b-9d6c-670932e2754c",
   "metadata": {},
   "source": [
    "# Task 1: Data Exploration"
   ]
  },
  {
   "cell_type": "code",
   "execution_count": 2,
   "id": "754aeaf6-22bb-4aca-b696-ccaf48cb423d",
   "metadata": {},
   "outputs": [
    {
     "data": {
      "text/html": [
       "<div>\n",
       "<style scoped>\n",
       "    .dataframe tbody tr th:only-of-type {\n",
       "        vertical-align: middle;\n",
       "    }\n",
       "\n",
       "    .dataframe tbody tr th {\n",
       "        vertical-align: top;\n",
       "    }\n",
       "\n",
       "    .dataframe thead th {\n",
       "        text-align: right;\n",
       "    }\n",
       "</style>\n",
       "<table border=\"1\" class=\"dataframe\">\n",
       "  <thead>\n",
       "    <tr style=\"text-align: right;\">\n",
       "      <th></th>\n",
       "      <th>_id</th>\n",
       "      <th>user</th>\n",
       "      <th>chatStatus</th>\n",
       "      <th>guru</th>\n",
       "      <th>guruName</th>\n",
       "      <th>gid</th>\n",
       "      <th>uid</th>\n",
       "      <th>consultationType</th>\n",
       "      <th>website</th>\n",
       "      <th>refundStatus</th>\n",
       "      <th>isWhiteListUser</th>\n",
       "      <th>chatSeconds</th>\n",
       "      <th>queue</th>\n",
       "      <th>freeCall</th>\n",
       "      <th>freeChat</th>\n",
       "      <th>createdAt</th>\n",
       "      <th>updatedAt</th>\n",
       "      <th>__v</th>\n",
       "      <th>statementEntryId</th>\n",
       "      <th>chatStartTime</th>\n",
       "      <th>chatEndTime</th>\n",
       "      <th>timeDuration</th>\n",
       "      <th>callChannel</th>\n",
       "      <th>callIvrType</th>\n",
       "      <th>callStatus</th>\n",
       "      <th>CallSid</th>\n",
       "      <th>amount</th>\n",
       "      <th>astrologerCallStatus</th>\n",
       "      <th>astrologerOnCallDuration</th>\n",
       "      <th>astrologersEarnings</th>\n",
       "      <th>netAmount</th>\n",
       "      <th>region</th>\n",
       "      <th>userCallStatus</th>\n",
       "      <th>userOnCallDuration</th>\n",
       "      <th>RecordingUrl</th>\n",
       "      <th>feedback</th>\n",
       "      <th>hideHistory</th>\n",
       "      <th>cardPosition</th>\n",
       "      <th>Remedies</th>\n",
       "      <th>offer</th>\n",
       "      <th>refunds[0]</th>\n",
       "      <th>source</th>\n",
       "      <th>callSeconds</th>\n",
       "      <th>complementaryCallOrganiser</th>\n",
       "      <th>disconnectedBy</th>\n",
       "    </tr>\n",
       "  </thead>\n",
       "  <tbody>\n",
       "    <tr>\n",
       "      <th>0</th>\n",
       "      <td>656922f2919324acb6e87139</td>\n",
       "      <td>65691b0c919324acb6e7e046</td>\n",
       "      <td>incomplete</td>\n",
       "      <td>65054786f5f203225bfcdd0d</td>\n",
       "      <td>Astro  Sanjeev</td>\n",
       "      <td>95</td>\n",
       "      <td>30129</td>\n",
       "      <td>Chat</td>\n",
       "      <td>gurucool</td>\n",
       "      <td>no-refund</td>\n",
       "      <td>False</td>\n",
       "      <td>300.0</td>\n",
       "      <td>False</td>\n",
       "      <td>False</td>\n",
       "      <td>True</td>\n",
       "      <td>2023-12-01T00:04:02.993Z</td>\n",
       "      <td>2023-12-01T00:07:33.833Z</td>\n",
       "      <td>0</td>\n",
       "      <td>656922f3919324acb6e8713b</td>\n",
       "      <td>2023-12-01T00:07:33.248Z</td>\n",
       "      <td>2023-12-01T00:07:33.773Z</td>\n",
       "      <td>0.008750</td>\n",
       "      <td>NaN</td>\n",
       "      <td>NaN</td>\n",
       "      <td>NaN</td>\n",
       "      <td>NaN</td>\n",
       "      <td>NaN</td>\n",
       "      <td>NaN</td>\n",
       "      <td>NaN</td>\n",
       "      <td>NaN</td>\n",
       "      <td>NaN</td>\n",
       "      <td>NaN</td>\n",
       "      <td>NaN</td>\n",
       "      <td>NaN</td>\n",
       "      <td>NaN</td>\n",
       "      <td>NaN</td>\n",
       "      <td>NaN</td>\n",
       "      <td>NaN</td>\n",
       "      <td>NaN</td>\n",
       "      <td>NaN</td>\n",
       "      <td>NaN</td>\n",
       "      <td>NaN</td>\n",
       "      <td>NaN</td>\n",
       "      <td>NaN</td>\n",
       "      <td>NaN</td>\n",
       "    </tr>\n",
       "    <tr>\n",
       "      <th>1</th>\n",
       "      <td>65692413919324acb6e87441</td>\n",
       "      <td>65691b0c919324acb6e7e046</td>\n",
       "      <td>incomplete</td>\n",
       "      <td>65054786f5f203225bfcdd0d</td>\n",
       "      <td>Astro  Sanjeev</td>\n",
       "      <td>95</td>\n",
       "      <td>30129</td>\n",
       "      <td>Chat</td>\n",
       "      <td>gurucool</td>\n",
       "      <td>no-refund</td>\n",
       "      <td>False</td>\n",
       "      <td>300.0</td>\n",
       "      <td>False</td>\n",
       "      <td>False</td>\n",
       "      <td>True</td>\n",
       "      <td>2023-12-01T00:08:51.903Z</td>\n",
       "      <td>2023-12-01T00:09:56.111Z</td>\n",
       "      <td>0</td>\n",
       "      <td>65692413919324acb6e87443</td>\n",
       "      <td>2023-12-01T00:09:55.808Z</td>\n",
       "      <td>2023-12-01T00:09:56.052Z</td>\n",
       "      <td>0.004067</td>\n",
       "      <td>NaN</td>\n",
       "      <td>NaN</td>\n",
       "      <td>NaN</td>\n",
       "      <td>NaN</td>\n",
       "      <td>NaN</td>\n",
       "      <td>NaN</td>\n",
       "      <td>NaN</td>\n",
       "      <td>NaN</td>\n",
       "      <td>NaN</td>\n",
       "      <td>NaN</td>\n",
       "      <td>NaN</td>\n",
       "      <td>NaN</td>\n",
       "      <td>NaN</td>\n",
       "      <td>NaN</td>\n",
       "      <td>NaN</td>\n",
       "      <td>NaN</td>\n",
       "      <td>NaN</td>\n",
       "      <td>NaN</td>\n",
       "      <td>NaN</td>\n",
       "      <td>NaN</td>\n",
       "      <td>NaN</td>\n",
       "      <td>NaN</td>\n",
       "      <td>NaN</td>\n",
       "    </tr>\n",
       "    <tr>\n",
       "      <th>2</th>\n",
       "      <td>65692612919324acb6e87738</td>\n",
       "      <td>656528dcee2b1ab52f019119</td>\n",
       "      <td>incomplete</td>\n",
       "      <td>65054786f5f203225bfcdd0d</td>\n",
       "      <td>Astro  Sanjeev</td>\n",
       "      <td>95</td>\n",
       "      <td>28743</td>\n",
       "      <td>Chat</td>\n",
       "      <td>gurucool</td>\n",
       "      <td>no-refund</td>\n",
       "      <td>False</td>\n",
       "      <td>300.0</td>\n",
       "      <td>False</td>\n",
       "      <td>False</td>\n",
       "      <td>True</td>\n",
       "      <td>2023-12-01T00:17:22.270Z</td>\n",
       "      <td>2023-12-01T00:22:04.382Z</td>\n",
       "      <td>0</td>\n",
       "      <td>65692612919324acb6e8773a</td>\n",
       "      <td>2023-12-01T00:22:04.072Z</td>\n",
       "      <td>2023-12-01T00:22:04.325Z</td>\n",
       "      <td>0.004217</td>\n",
       "      <td>NaN</td>\n",
       "      <td>NaN</td>\n",
       "      <td>NaN</td>\n",
       "      <td>NaN</td>\n",
       "      <td>NaN</td>\n",
       "      <td>NaN</td>\n",
       "      <td>NaN</td>\n",
       "      <td>NaN</td>\n",
       "      <td>NaN</td>\n",
       "      <td>NaN</td>\n",
       "      <td>NaN</td>\n",
       "      <td>NaN</td>\n",
       "      <td>NaN</td>\n",
       "      <td>NaN</td>\n",
       "      <td>NaN</td>\n",
       "      <td>NaN</td>\n",
       "      <td>NaN</td>\n",
       "      <td>NaN</td>\n",
       "      <td>NaN</td>\n",
       "      <td>NaN</td>\n",
       "      <td>NaN</td>\n",
       "      <td>NaN</td>\n",
       "      <td>NaN</td>\n",
       "    </tr>\n",
       "    <tr>\n",
       "      <th>3</th>\n",
       "      <td>656927c9919324acb6e87b2f</td>\n",
       "      <td>6568ee9f919324acb6e77e53</td>\n",
       "      <td>incomplete</td>\n",
       "      <td>65054786f5f203225bfcdd0d</td>\n",
       "      <td>Astro  Sanjeev</td>\n",
       "      <td>95</td>\n",
       "      <td>30120</td>\n",
       "      <td>Chat</td>\n",
       "      <td>gurucool</td>\n",
       "      <td>no-refund</td>\n",
       "      <td>False</td>\n",
       "      <td>300.0</td>\n",
       "      <td>False</td>\n",
       "      <td>False</td>\n",
       "      <td>True</td>\n",
       "      <td>2023-12-01T00:24:41.672Z</td>\n",
       "      <td>2023-12-01T00:29:44.022Z</td>\n",
       "      <td>0</td>\n",
       "      <td>656927c9919324acb6e87b31</td>\n",
       "      <td>2023-12-01T00:29:43.556Z</td>\n",
       "      <td>2023-12-01T00:29:43.960Z</td>\n",
       "      <td>0.006733</td>\n",
       "      <td>NaN</td>\n",
       "      <td>NaN</td>\n",
       "      <td>NaN</td>\n",
       "      <td>NaN</td>\n",
       "      <td>NaN</td>\n",
       "      <td>NaN</td>\n",
       "      <td>NaN</td>\n",
       "      <td>NaN</td>\n",
       "      <td>NaN</td>\n",
       "      <td>NaN</td>\n",
       "      <td>NaN</td>\n",
       "      <td>NaN</td>\n",
       "      <td>NaN</td>\n",
       "      <td>NaN</td>\n",
       "      <td>NaN</td>\n",
       "      <td>NaN</td>\n",
       "      <td>NaN</td>\n",
       "      <td>NaN</td>\n",
       "      <td>NaN</td>\n",
       "      <td>NaN</td>\n",
       "      <td>NaN</td>\n",
       "      <td>NaN</td>\n",
       "      <td>NaN</td>\n",
       "    </tr>\n",
       "    <tr>\n",
       "      <th>4</th>\n",
       "      <td>65692d75919324acb6e882dd</td>\n",
       "      <td>65629cfc4232eb704d712d98</td>\n",
       "      <td>failed</td>\n",
       "      <td>65054786f5f203225bfcdd0d</td>\n",
       "      <td>Astro  Sanjeev</td>\n",
       "      <td>95</td>\n",
       "      <td>27790</td>\n",
       "      <td>Chat</td>\n",
       "      <td>gurucool</td>\n",
       "      <td>no-refund</td>\n",
       "      <td>False</td>\n",
       "      <td>300.0</td>\n",
       "      <td>False</td>\n",
       "      <td>False</td>\n",
       "      <td>False</td>\n",
       "      <td>2023-12-01T00:48:53.744Z</td>\n",
       "      <td>2023-12-01T00:50:33.153Z</td>\n",
       "      <td>0</td>\n",
       "      <td>65692d75919324acb6e882df</td>\n",
       "      <td>NaN</td>\n",
       "      <td>NaN</td>\n",
       "      <td>NaN</td>\n",
       "      <td>NaN</td>\n",
       "      <td>NaN</td>\n",
       "      <td>NaN</td>\n",
       "      <td>NaN</td>\n",
       "      <td>NaN</td>\n",
       "      <td>NaN</td>\n",
       "      <td>NaN</td>\n",
       "      <td>NaN</td>\n",
       "      <td>NaN</td>\n",
       "      <td>NaN</td>\n",
       "      <td>NaN</td>\n",
       "      <td>NaN</td>\n",
       "      <td>NaN</td>\n",
       "      <td>NaN</td>\n",
       "      <td>NaN</td>\n",
       "      <td>NaN</td>\n",
       "      <td>NaN</td>\n",
       "      <td>NaN</td>\n",
       "      <td>NaN</td>\n",
       "      <td>NaN</td>\n",
       "      <td>NaN</td>\n",
       "      <td>NaN</td>\n",
       "      <td>NaN</td>\n",
       "    </tr>\n",
       "  </tbody>\n",
       "</table>\n",
       "</div>"
      ],
      "text/plain": [
       "                        _id                      user  chatStatus  \\\n",
       "0  656922f2919324acb6e87139  65691b0c919324acb6e7e046  incomplete   \n",
       "1  65692413919324acb6e87441  65691b0c919324acb6e7e046  incomplete   \n",
       "2  65692612919324acb6e87738  656528dcee2b1ab52f019119  incomplete   \n",
       "3  656927c9919324acb6e87b2f  6568ee9f919324acb6e77e53  incomplete   \n",
       "4  65692d75919324acb6e882dd  65629cfc4232eb704d712d98      failed   \n",
       "\n",
       "                       guru        guruName  gid    uid consultationType  \\\n",
       "0  65054786f5f203225bfcdd0d  Astro  Sanjeev   95  30129             Chat   \n",
       "1  65054786f5f203225bfcdd0d  Astro  Sanjeev   95  30129             Chat   \n",
       "2  65054786f5f203225bfcdd0d  Astro  Sanjeev   95  28743             Chat   \n",
       "3  65054786f5f203225bfcdd0d  Astro  Sanjeev   95  30120             Chat   \n",
       "4  65054786f5f203225bfcdd0d  Astro  Sanjeev   95  27790             Chat   \n",
       "\n",
       "    website refundStatus  isWhiteListUser  chatSeconds  queue  freeCall  \\\n",
       "0  gurucool    no-refund            False        300.0  False     False   \n",
       "1  gurucool    no-refund            False        300.0  False     False   \n",
       "2  gurucool    no-refund            False        300.0  False     False   \n",
       "3  gurucool    no-refund            False        300.0  False     False   \n",
       "4  gurucool    no-refund            False        300.0  False     False   \n",
       "\n",
       "   freeChat                 createdAt                 updatedAt  __v  \\\n",
       "0      True  2023-12-01T00:04:02.993Z  2023-12-01T00:07:33.833Z    0   \n",
       "1      True  2023-12-01T00:08:51.903Z  2023-12-01T00:09:56.111Z    0   \n",
       "2      True  2023-12-01T00:17:22.270Z  2023-12-01T00:22:04.382Z    0   \n",
       "3      True  2023-12-01T00:24:41.672Z  2023-12-01T00:29:44.022Z    0   \n",
       "4     False  2023-12-01T00:48:53.744Z  2023-12-01T00:50:33.153Z    0   \n",
       "\n",
       "           statementEntryId             chatStartTime  \\\n",
       "0  656922f3919324acb6e8713b  2023-12-01T00:07:33.248Z   \n",
       "1  65692413919324acb6e87443  2023-12-01T00:09:55.808Z   \n",
       "2  65692612919324acb6e8773a  2023-12-01T00:22:04.072Z   \n",
       "3  656927c9919324acb6e87b31  2023-12-01T00:29:43.556Z   \n",
       "4  65692d75919324acb6e882df                       NaN   \n",
       "\n",
       "                chatEndTime  timeDuration callChannel callIvrType callStatus  \\\n",
       "0  2023-12-01T00:07:33.773Z      0.008750         NaN         NaN        NaN   \n",
       "1  2023-12-01T00:09:56.052Z      0.004067         NaN         NaN        NaN   \n",
       "2  2023-12-01T00:22:04.325Z      0.004217         NaN         NaN        NaN   \n",
       "3  2023-12-01T00:29:43.960Z      0.006733         NaN         NaN        NaN   \n",
       "4                       NaN           NaN         NaN         NaN        NaN   \n",
       "\n",
       "  CallSid  amount astrologerCallStatus  astrologerOnCallDuration  \\\n",
       "0     NaN     NaN                  NaN                       NaN   \n",
       "1     NaN     NaN                  NaN                       NaN   \n",
       "2     NaN     NaN                  NaN                       NaN   \n",
       "3     NaN     NaN                  NaN                       NaN   \n",
       "4     NaN     NaN                  NaN                       NaN   \n",
       "\n",
       "   astrologersEarnings  netAmount region userCallStatus  userOnCallDuration  \\\n",
       "0                  NaN        NaN    NaN            NaN                 NaN   \n",
       "1                  NaN        NaN    NaN            NaN                 NaN   \n",
       "2                  NaN        NaN    NaN            NaN                 NaN   \n",
       "3                  NaN        NaN    NaN            NaN                 NaN   \n",
       "4                  NaN        NaN    NaN            NaN                 NaN   \n",
       "\n",
       "  RecordingUrl feedback hideHistory cardPosition Remedies offer refunds[0]  \\\n",
       "0          NaN      NaN         NaN          NaN      NaN   NaN        NaN   \n",
       "1          NaN      NaN         NaN          NaN      NaN   NaN        NaN   \n",
       "2          NaN      NaN         NaN          NaN      NaN   NaN        NaN   \n",
       "3          NaN      NaN         NaN          NaN      NaN   NaN        NaN   \n",
       "4          NaN      NaN         NaN          NaN      NaN   NaN        NaN   \n",
       "\n",
       "  source  callSeconds complementaryCallOrganiser disconnectedBy  \n",
       "0    NaN          NaN                        NaN            NaN  \n",
       "1    NaN          NaN                        NaN            NaN  \n",
       "2    NaN          NaN                        NaN            NaN  \n",
       "3    NaN          NaN                        NaN            NaN  \n",
       "4    NaN          NaN                        NaN            NaN  "
      ]
     },
     "execution_count": 2,
     "metadata": {},
     "output_type": "execute_result"
    }
   ],
   "source": [
    "# loading the dataset\n",
    "\n",
    "df=pd.read_csv('consultation.csv')\n",
    "df.head()"
   ]
  },
  {
   "cell_type": "code",
   "execution_count": 3,
   "id": "b058efbc-977e-41cd-8d67-908f3660b153",
   "metadata": {},
   "outputs": [
    {
     "data": {
      "text/plain": [
       "Index(['_id', 'user', 'chatStatus', 'guru', 'guruName', 'gid', 'uid',\n",
       "       'consultationType', 'website', 'refundStatus', 'isWhiteListUser',\n",
       "       'chatSeconds', 'queue', 'freeCall', 'freeChat', 'createdAt',\n",
       "       'updatedAt', '__v', 'statementEntryId', 'chatStartTime', 'chatEndTime',\n",
       "       'timeDuration', 'callChannel', 'callIvrType', 'callStatus', 'CallSid',\n",
       "       'amount', 'astrologerCallStatus', 'astrologerOnCallDuration',\n",
       "       'astrologersEarnings', 'netAmount', 'region', 'userCallStatus',\n",
       "       'userOnCallDuration', 'RecordingUrl', 'feedback', 'hideHistory',\n",
       "       'cardPosition', 'Remedies', 'offer', 'refunds[0]', 'source',\n",
       "       'callSeconds', 'complementaryCallOrganiser', 'disconnectedBy'],\n",
       "      dtype='object')"
      ]
     },
     "execution_count": 3,
     "metadata": {},
     "output_type": "execute_result"
    }
   ],
   "source": [
    "columns=df.columns\n",
    "columns"
   ]
  },
  {
   "cell_type": "code",
   "execution_count": 4,
   "id": "49bcca43-417b-4041-aad1-3f9badfb9d7b",
   "metadata": {},
   "outputs": [
    {
     "data": {
      "text/plain": [
       "(28027, 45)"
      ]
     },
     "execution_count": 4,
     "metadata": {},
     "output_type": "execute_result"
    }
   ],
   "source": [
    "df.shape"
   ]
  },
  {
   "cell_type": "code",
   "execution_count": 5,
   "id": "96b83cdb-0727-4f48-9c5d-d18c568c0d2a",
   "metadata": {},
   "outputs": [
    {
     "data": {
      "text/plain": [
       "_id                            0.000000\n",
       "user                           0.000000\n",
       "chatStatus                    30.370714\n",
       "guru                           0.000000\n",
       "guruName                       0.000000\n",
       "gid                            0.000000\n",
       "uid                            0.000000\n",
       "consultationType               0.000000\n",
       "website                        0.000000\n",
       "refundStatus                   0.000000\n",
       "isWhiteListUser                0.000000\n",
       "chatSeconds                   30.374282\n",
       "queue                          0.000000\n",
       "freeCall                       0.000000\n",
       "freeChat                       0.000000\n",
       "createdAt                      0.000000\n",
       "updatedAt                      0.000000\n",
       "__v                            0.000000\n",
       "statementEntryId               0.538766\n",
       "chatStartTime                 66.710672\n",
       "chatEndTime                   53.505548\n",
       "timeDuration                  23.652193\n",
       "callChannel                   69.643558\n",
       "callIvrType                   70.164484\n",
       "callStatus                    69.525814\n",
       "CallSid                       70.153780\n",
       "amount                        67.831020\n",
       "astrologerCallStatus          41.991651\n",
       "astrologerOnCallDuration      70.153780\n",
       "astrologersEarnings           67.831020\n",
       "netAmount                     67.831020\n",
       "region                        67.820316\n",
       "userCallStatus                66.657152\n",
       "userOnCallDuration            70.153780\n",
       "RecordingUrl                  84.568452\n",
       "feedback                      90.666143\n",
       "hideHistory                   31.002248\n",
       "cardPosition                  97.466729\n",
       "Remedies                      99.636065\n",
       "offer                         33.000321\n",
       "refunds[0]                    99.982160\n",
       "source                        41.873907\n",
       "callSeconds                   99.992864\n",
       "complementaryCallOrganiser    99.992864\n",
       "disconnectedBy                99.967888\n",
       "dtype: float64"
      ]
     },
     "execution_count": 5,
     "metadata": {},
     "output_type": "execute_result"
    }
   ],
   "source": [
    "df.isnull().sum()/df.shape[0]*100"
   ]
  },
  {
   "cell_type": "code",
   "execution_count": 6,
   "id": "ffd919f2-3562-4457-ae1c-c862969042c6",
   "metadata": {},
   "outputs": [
    {
     "data": {
      "text/plain": [
       "29"
      ]
     },
     "execution_count": 6,
     "metadata": {},
     "output_type": "execute_result"
    },
    {
     "data": {
      "text/plain": [
       "Index(['chatStatus', 'chatSeconds', 'statementEntryId', 'chatStartTime',\n",
       "       'chatEndTime', 'timeDuration', 'callChannel', 'callIvrType',\n",
       "       'callStatus', 'CallSid', 'amount', 'astrologerCallStatus',\n",
       "       'astrologerOnCallDuration', 'astrologersEarnings', 'netAmount',\n",
       "       'region', 'userCallStatus', 'userOnCallDuration', 'RecordingUrl',\n",
       "       'feedback', 'hideHistory', 'cardPosition', 'Remedies', 'offer',\n",
       "       'refunds[0]', 'source', 'callSeconds', 'complementaryCallOrganiser',\n",
       "       'disconnectedBy'],\n",
       "      dtype='object')"
      ]
     },
     "execution_count": 6,
     "metadata": {},
     "output_type": "execute_result"
    }
   ],
   "source": [
    "# identifying columns which have 1 or more than 1 missing values\n",
    "\n",
    "len(df.columns[df.isnull().any()])\n",
    "# we have 29 columns which have 1 or more than 1 missing values\n",
    "\n",
    "missing_columns=df.columns[df.isnull().any()]\n",
    "missing_columns"
   ]
  },
  {
   "cell_type": "markdown",
   "id": "c67c65e5-255a-4f6b-91d6-5de212d3d9cf",
   "metadata": {},
   "source": [
    "# identifying missing values in the categorical columns"
   ]
  },
  {
   "cell_type": "code",
   "execution_count": 7,
   "id": "a56cfc10-c5b4-4ae5-80bd-3f97281ce803",
   "metadata": {},
   "outputs": [
    {
     "data": {
      "text/plain": [
       "['chatStatus',\n",
       " 'statementEntryId',\n",
       " 'chatStartTime',\n",
       " 'chatEndTime',\n",
       " 'callChannel',\n",
       " 'callIvrType',\n",
       " 'callStatus',\n",
       " 'CallSid',\n",
       " 'astrologerCallStatus',\n",
       " 'region',\n",
       " 'userCallStatus',\n",
       " 'RecordingUrl',\n",
       " 'feedback',\n",
       " 'hideHistory',\n",
       " 'cardPosition',\n",
       " 'Remedies',\n",
       " 'offer',\n",
       " 'refunds[0]',\n",
       " 'source',\n",
       " 'complementaryCallOrganiser',\n",
       " 'disconnectedBy']"
      ]
     },
     "execution_count": 7,
     "metadata": {},
     "output_type": "execute_result"
    }
   ],
   "source": [
    "categorical_columns=df[missing_columns].select_dtypes(include='object').columns\n",
    "columns=list(categorical_columns)\n",
    "columns"
   ]
  },
  {
   "cell_type": "code",
   "execution_count": 8,
   "id": "b1bc568c-ad0e-4916-9abf-a54d57021173",
   "metadata": {},
   "outputs": [],
   "source": [
    "missing_count=df[missing_columns].select_dtypes(include='object').isnull().sum()\n",
    "# missing_count"
   ]
  },
  {
   "cell_type": "code",
   "execution_count": 9,
   "id": "8013efd9-2d63-49a3-b8f5-73b333bc1787",
   "metadata": {},
   "outputs": [],
   "source": [
    "missing_percentage=df[missing_columns].select_dtypes(include='object').isnull().sum()/df.shape[0]*100\n",
    "# missing_percentage"
   ]
  },
  {
   "cell_type": "code",
   "execution_count": 10,
   "id": "4a06adf9-7325-4f9c-8f74-a5f8c1a3a631",
   "metadata": {},
   "outputs": [
    {
     "data": {
      "text/html": [
       "<div>\n",
       "<style scoped>\n",
       "    .dataframe tbody tr th:only-of-type {\n",
       "        vertical-align: middle;\n",
       "    }\n",
       "\n",
       "    .dataframe tbody tr th {\n",
       "        vertical-align: top;\n",
       "    }\n",
       "\n",
       "    .dataframe thead th {\n",
       "        text-align: right;\n",
       "    }\n",
       "</style>\n",
       "<table border=\"1\" class=\"dataframe\">\n",
       "  <thead>\n",
       "    <tr style=\"text-align: right;\">\n",
       "      <th></th>\n",
       "      <th>column</th>\n",
       "      <th>count</th>\n",
       "      <th>percentage</th>\n",
       "    </tr>\n",
       "  </thead>\n",
       "  <tbody>\n",
       "    <tr>\n",
       "      <th>0</th>\n",
       "      <td>chatStatus</td>\n",
       "      <td>8512</td>\n",
       "      <td>30.370714</td>\n",
       "    </tr>\n",
       "    <tr>\n",
       "      <th>1</th>\n",
       "      <td>statementEntryId</td>\n",
       "      <td>151</td>\n",
       "      <td>0.538766</td>\n",
       "    </tr>\n",
       "    <tr>\n",
       "      <th>2</th>\n",
       "      <td>chatStartTime</td>\n",
       "      <td>18697</td>\n",
       "      <td>66.710672</td>\n",
       "    </tr>\n",
       "    <tr>\n",
       "      <th>3</th>\n",
       "      <td>chatEndTime</td>\n",
       "      <td>14996</td>\n",
       "      <td>53.505548</td>\n",
       "    </tr>\n",
       "    <tr>\n",
       "      <th>4</th>\n",
       "      <td>callChannel</td>\n",
       "      <td>19519</td>\n",
       "      <td>69.643558</td>\n",
       "    </tr>\n",
       "    <tr>\n",
       "      <th>5</th>\n",
       "      <td>callIvrType</td>\n",
       "      <td>19665</td>\n",
       "      <td>70.164484</td>\n",
       "    </tr>\n",
       "    <tr>\n",
       "      <th>6</th>\n",
       "      <td>callStatus</td>\n",
       "      <td>19486</td>\n",
       "      <td>69.525814</td>\n",
       "    </tr>\n",
       "    <tr>\n",
       "      <th>7</th>\n",
       "      <td>CallSid</td>\n",
       "      <td>19662</td>\n",
       "      <td>70.153780</td>\n",
       "    </tr>\n",
       "    <tr>\n",
       "      <th>8</th>\n",
       "      <td>astrologerCallStatus</td>\n",
       "      <td>11769</td>\n",
       "      <td>41.991651</td>\n",
       "    </tr>\n",
       "    <tr>\n",
       "      <th>9</th>\n",
       "      <td>region</td>\n",
       "      <td>19008</td>\n",
       "      <td>67.820316</td>\n",
       "    </tr>\n",
       "    <tr>\n",
       "      <th>10</th>\n",
       "      <td>userCallStatus</td>\n",
       "      <td>18682</td>\n",
       "      <td>66.657152</td>\n",
       "    </tr>\n",
       "    <tr>\n",
       "      <th>11</th>\n",
       "      <td>RecordingUrl</td>\n",
       "      <td>23702</td>\n",
       "      <td>84.568452</td>\n",
       "    </tr>\n",
       "    <tr>\n",
       "      <th>12</th>\n",
       "      <td>feedback</td>\n",
       "      <td>25411</td>\n",
       "      <td>90.666143</td>\n",
       "    </tr>\n",
       "    <tr>\n",
       "      <th>13</th>\n",
       "      <td>hideHistory</td>\n",
       "      <td>8689</td>\n",
       "      <td>31.002248</td>\n",
       "    </tr>\n",
       "    <tr>\n",
       "      <th>14</th>\n",
       "      <td>cardPosition</td>\n",
       "      <td>27317</td>\n",
       "      <td>97.466729</td>\n",
       "    </tr>\n",
       "    <tr>\n",
       "      <th>15</th>\n",
       "      <td>Remedies</td>\n",
       "      <td>27925</td>\n",
       "      <td>99.636065</td>\n",
       "    </tr>\n",
       "    <tr>\n",
       "      <th>16</th>\n",
       "      <td>offer</td>\n",
       "      <td>9249</td>\n",
       "      <td>33.000321</td>\n",
       "    </tr>\n",
       "    <tr>\n",
       "      <th>17</th>\n",
       "      <td>refunds[0]</td>\n",
       "      <td>28022</td>\n",
       "      <td>99.982160</td>\n",
       "    </tr>\n",
       "    <tr>\n",
       "      <th>18</th>\n",
       "      <td>source</td>\n",
       "      <td>11736</td>\n",
       "      <td>41.873907</td>\n",
       "    </tr>\n",
       "    <tr>\n",
       "      <th>19</th>\n",
       "      <td>complementaryCallOrganiser</td>\n",
       "      <td>28025</td>\n",
       "      <td>99.992864</td>\n",
       "    </tr>\n",
       "    <tr>\n",
       "      <th>20</th>\n",
       "      <td>disconnectedBy</td>\n",
       "      <td>28018</td>\n",
       "      <td>99.967888</td>\n",
       "    </tr>\n",
       "  </tbody>\n",
       "</table>\n",
       "</div>"
      ],
      "text/plain": [
       "                        column  count  percentage\n",
       "0                   chatStatus   8512   30.370714\n",
       "1             statementEntryId    151    0.538766\n",
       "2                chatStartTime  18697   66.710672\n",
       "3                  chatEndTime  14996   53.505548\n",
       "4                  callChannel  19519   69.643558\n",
       "5                  callIvrType  19665   70.164484\n",
       "6                   callStatus  19486   69.525814\n",
       "7                      CallSid  19662   70.153780\n",
       "8         astrologerCallStatus  11769   41.991651\n",
       "9                       region  19008   67.820316\n",
       "10              userCallStatus  18682   66.657152\n",
       "11                RecordingUrl  23702   84.568452\n",
       "12                    feedback  25411   90.666143\n",
       "13                 hideHistory   8689   31.002248\n",
       "14                cardPosition  27317   97.466729\n",
       "15                    Remedies  27925   99.636065\n",
       "16                       offer   9249   33.000321\n",
       "17                  refunds[0]  28022   99.982160\n",
       "18                      source  11736   41.873907\n",
       "19  complementaryCallOrganiser  28025   99.992864\n",
       "20              disconnectedBy  28018   99.967888"
      ]
     },
     "execution_count": 10,
     "metadata": {},
     "output_type": "execute_result"
    }
   ],
   "source": [
    "# converting into one data frame\n",
    "\n",
    "categorical_missing=pd.DataFrame({'column':columns,'count':missing_count,'percentage':missing_percentage}).reset_index(drop=True)\n",
    "categorical_missing"
   ]
  },
  {
   "cell_type": "code",
   "execution_count": 11,
   "id": "55d7a238-4c10-4b41-ab67-86022947d1b2",
   "metadata": {},
   "outputs": [
    {
     "data": {
      "text/plain": [
       "17"
      ]
     },
     "execution_count": 11,
     "metadata": {},
     "output_type": "execute_result"
    },
    {
     "data": {
      "text/plain": [
       "2                  chatStartTime\n",
       "3                    chatEndTime\n",
       "4                    callChannel\n",
       "5                    callIvrType\n",
       "6                     callStatus\n",
       "7                        CallSid\n",
       "8           astrologerCallStatus\n",
       "9                         region\n",
       "10                userCallStatus\n",
       "11                  RecordingUrl\n",
       "12                      feedback\n",
       "14                  cardPosition\n",
       "15                      Remedies\n",
       "17                    refunds[0]\n",
       "18                        source\n",
       "19    complementaryCallOrganiser\n",
       "20                disconnectedBy\n",
       "Name: column, dtype: object"
      ]
     },
     "execution_count": 11,
     "metadata": {},
     "output_type": "execute_result"
    }
   ],
   "source": [
    "missing_40=categorical_missing.loc[categorical_missing['percentage']>=40,'column']\n",
    "len(categorical_missing.loc[categorical_missing['percentage']>=40,'column'])\n",
    "missing_40\n",
    "# we have 17 categorical columns which contain more than 40 % of missing values,in ideal condition we would delete these columns\n",
    "# because of insufficient information, but looking into data set some of the columns may be required in our\n",
    "# analysis, so we will delete those columns which have more than 70% of data."
   ]
  },
  {
   "cell_type": "code",
   "execution_count": 12,
   "id": "c3f1ca55-ee42-47fd-af22-e6c0a43be2f6",
   "metadata": {},
   "outputs": [
    {
     "data": {
      "text/plain": [
       "5                    callIvrType\n",
       "7                        CallSid\n",
       "11                  RecordingUrl\n",
       "12                      feedback\n",
       "14                  cardPosition\n",
       "15                      Remedies\n",
       "17                    refunds[0]\n",
       "19    complementaryCallOrganiser\n",
       "20                disconnectedBy\n",
       "Name: column, dtype: object"
      ]
     },
     "execution_count": 12,
     "metadata": {},
     "output_type": "execute_result"
    }
   ],
   "source": [
    "# droping columns which have more than 70% of missing data\n",
    "\n",
    "columns_70=categorical_missing.loc[categorical_missing['percentage']>=70,'column']\n",
    "columns_70\n",
    "\n",
    "df.drop(columns_70,axis=1,inplace=True)"
   ]
  },
  {
   "cell_type": "code",
   "execution_count": 13,
   "id": "4fedd577-75e0-41e8-980f-2a902a4c26bb",
   "metadata": {},
   "outputs": [
    {
     "data": {
      "text/plain": [
       "_id                      0.000000\n",
       "user                     0.000000\n",
       "chatStatus              30.370714\n",
       "guru                     0.000000\n",
       "guruName                 0.000000\n",
       "consultationType         0.000000\n",
       "website                  0.000000\n",
       "refundStatus             0.000000\n",
       "createdAt                0.000000\n",
       "updatedAt                0.000000\n",
       "statementEntryId         0.538766\n",
       "chatStartTime           66.710672\n",
       "chatEndTime             53.505548\n",
       "callChannel             69.643558\n",
       "callStatus              69.525814\n",
       "astrologerCallStatus    41.991651\n",
       "region                  67.820316\n",
       "userCallStatus          66.657152\n",
       "hideHistory             31.002248\n",
       "offer                   33.000321\n",
       "source                  41.873907\n",
       "dtype: float64"
      ]
     },
     "execution_count": 13,
     "metadata": {},
     "output_type": "execute_result"
    }
   ],
   "source": [
    "# now we will analyse each of these columns separately and try to fill it will best suitable option\n",
    "\n",
    "df.select_dtypes(include='object').isnull().sum()/df.shape[0]*100"
   ]
  },
  {
   "cell_type": "code",
   "execution_count": 14,
   "id": "7a34c397-da65-455b-80ae-df097973b753",
   "metadata": {},
   "outputs": [
    {
     "data": {
      "text/html": [
       "<div>\n",
       "<style scoped>\n",
       "    .dataframe tbody tr th:only-of-type {\n",
       "        vertical-align: middle;\n",
       "    }\n",
       "\n",
       "    .dataframe tbody tr th {\n",
       "        vertical-align: top;\n",
       "    }\n",
       "\n",
       "    .dataframe thead th {\n",
       "        text-align: right;\n",
       "    }\n",
       "</style>\n",
       "<table border=\"1\" class=\"dataframe\">\n",
       "  <thead>\n",
       "    <tr style=\"text-align: right;\">\n",
       "      <th></th>\n",
       "      <th>_id</th>\n",
       "      <th>user</th>\n",
       "      <th>chatStatus</th>\n",
       "      <th>guru</th>\n",
       "      <th>guruName</th>\n",
       "      <th>consultationType</th>\n",
       "      <th>website</th>\n",
       "      <th>refundStatus</th>\n",
       "      <th>createdAt</th>\n",
       "      <th>updatedAt</th>\n",
       "      <th>statementEntryId</th>\n",
       "      <th>chatStartTime</th>\n",
       "      <th>chatEndTime</th>\n",
       "      <th>callChannel</th>\n",
       "      <th>callStatus</th>\n",
       "      <th>astrologerCallStatus</th>\n",
       "      <th>region</th>\n",
       "      <th>userCallStatus</th>\n",
       "      <th>hideHistory</th>\n",
       "      <th>offer</th>\n",
       "      <th>source</th>\n",
       "    </tr>\n",
       "  </thead>\n",
       "  <tbody>\n",
       "    <tr>\n",
       "      <th>0</th>\n",
       "      <td>656922f2919324acb6e87139</td>\n",
       "      <td>65691b0c919324acb6e7e046</td>\n",
       "      <td>incomplete</td>\n",
       "      <td>65054786f5f203225bfcdd0d</td>\n",
       "      <td>Astro  Sanjeev</td>\n",
       "      <td>Chat</td>\n",
       "      <td>gurucool</td>\n",
       "      <td>no-refund</td>\n",
       "      <td>2023-12-01T00:04:02.993Z</td>\n",
       "      <td>2023-12-01T00:07:33.833Z</td>\n",
       "      <td>656922f3919324acb6e8713b</td>\n",
       "      <td>2023-12-01T00:07:33.248Z</td>\n",
       "      <td>2023-12-01T00:07:33.773Z</td>\n",
       "      <td>NaN</td>\n",
       "      <td>NaN</td>\n",
       "      <td>NaN</td>\n",
       "      <td>NaN</td>\n",
       "      <td>NaN</td>\n",
       "      <td>NaN</td>\n",
       "      <td>NaN</td>\n",
       "      <td>NaN</td>\n",
       "    </tr>\n",
       "    <tr>\n",
       "      <th>1</th>\n",
       "      <td>65692413919324acb6e87441</td>\n",
       "      <td>65691b0c919324acb6e7e046</td>\n",
       "      <td>incomplete</td>\n",
       "      <td>65054786f5f203225bfcdd0d</td>\n",
       "      <td>Astro  Sanjeev</td>\n",
       "      <td>Chat</td>\n",
       "      <td>gurucool</td>\n",
       "      <td>no-refund</td>\n",
       "      <td>2023-12-01T00:08:51.903Z</td>\n",
       "      <td>2023-12-01T00:09:56.111Z</td>\n",
       "      <td>65692413919324acb6e87443</td>\n",
       "      <td>2023-12-01T00:09:55.808Z</td>\n",
       "      <td>2023-12-01T00:09:56.052Z</td>\n",
       "      <td>NaN</td>\n",
       "      <td>NaN</td>\n",
       "      <td>NaN</td>\n",
       "      <td>NaN</td>\n",
       "      <td>NaN</td>\n",
       "      <td>NaN</td>\n",
       "      <td>NaN</td>\n",
       "      <td>NaN</td>\n",
       "    </tr>\n",
       "    <tr>\n",
       "      <th>2</th>\n",
       "      <td>65692612919324acb6e87738</td>\n",
       "      <td>656528dcee2b1ab52f019119</td>\n",
       "      <td>incomplete</td>\n",
       "      <td>65054786f5f203225bfcdd0d</td>\n",
       "      <td>Astro  Sanjeev</td>\n",
       "      <td>Chat</td>\n",
       "      <td>gurucool</td>\n",
       "      <td>no-refund</td>\n",
       "      <td>2023-12-01T00:17:22.270Z</td>\n",
       "      <td>2023-12-01T00:22:04.382Z</td>\n",
       "      <td>65692612919324acb6e8773a</td>\n",
       "      <td>2023-12-01T00:22:04.072Z</td>\n",
       "      <td>2023-12-01T00:22:04.325Z</td>\n",
       "      <td>NaN</td>\n",
       "      <td>NaN</td>\n",
       "      <td>NaN</td>\n",
       "      <td>NaN</td>\n",
       "      <td>NaN</td>\n",
       "      <td>NaN</td>\n",
       "      <td>NaN</td>\n",
       "      <td>NaN</td>\n",
       "    </tr>\n",
       "    <tr>\n",
       "      <th>3</th>\n",
       "      <td>656927c9919324acb6e87b2f</td>\n",
       "      <td>6568ee9f919324acb6e77e53</td>\n",
       "      <td>incomplete</td>\n",
       "      <td>65054786f5f203225bfcdd0d</td>\n",
       "      <td>Astro  Sanjeev</td>\n",
       "      <td>Chat</td>\n",
       "      <td>gurucool</td>\n",
       "      <td>no-refund</td>\n",
       "      <td>2023-12-01T00:24:41.672Z</td>\n",
       "      <td>2023-12-01T00:29:44.022Z</td>\n",
       "      <td>656927c9919324acb6e87b31</td>\n",
       "      <td>2023-12-01T00:29:43.556Z</td>\n",
       "      <td>2023-12-01T00:29:43.960Z</td>\n",
       "      <td>NaN</td>\n",
       "      <td>NaN</td>\n",
       "      <td>NaN</td>\n",
       "      <td>NaN</td>\n",
       "      <td>NaN</td>\n",
       "      <td>NaN</td>\n",
       "      <td>NaN</td>\n",
       "      <td>NaN</td>\n",
       "    </tr>\n",
       "    <tr>\n",
       "      <th>4</th>\n",
       "      <td>65692d75919324acb6e882dd</td>\n",
       "      <td>65629cfc4232eb704d712d98</td>\n",
       "      <td>failed</td>\n",
       "      <td>65054786f5f203225bfcdd0d</td>\n",
       "      <td>Astro  Sanjeev</td>\n",
       "      <td>Chat</td>\n",
       "      <td>gurucool</td>\n",
       "      <td>no-refund</td>\n",
       "      <td>2023-12-01T00:48:53.744Z</td>\n",
       "      <td>2023-12-01T00:50:33.153Z</td>\n",
       "      <td>65692d75919324acb6e882df</td>\n",
       "      <td>NaN</td>\n",
       "      <td>NaN</td>\n",
       "      <td>NaN</td>\n",
       "      <td>NaN</td>\n",
       "      <td>NaN</td>\n",
       "      <td>NaN</td>\n",
       "      <td>NaN</td>\n",
       "      <td>NaN</td>\n",
       "      <td>NaN</td>\n",
       "      <td>NaN</td>\n",
       "    </tr>\n",
       "    <tr>\n",
       "      <th>...</th>\n",
       "      <td>...</td>\n",
       "      <td>...</td>\n",
       "      <td>...</td>\n",
       "      <td>...</td>\n",
       "      <td>...</td>\n",
       "      <td>...</td>\n",
       "      <td>...</td>\n",
       "      <td>...</td>\n",
       "      <td>...</td>\n",
       "      <td>...</td>\n",
       "      <td>...</td>\n",
       "      <td>...</td>\n",
       "      <td>...</td>\n",
       "      <td>...</td>\n",
       "      <td>...</td>\n",
       "      <td>...</td>\n",
       "      <td>...</td>\n",
       "      <td>...</td>\n",
       "      <td>...</td>\n",
       "      <td>...</td>\n",
       "      <td>...</td>\n",
       "    </tr>\n",
       "    <tr>\n",
       "      <th>28022</th>\n",
       "      <td>6595ef62849de2bb564ed9fb</td>\n",
       "      <td>6592ef86270572b0ca26a3e3</td>\n",
       "      <td>completed</td>\n",
       "      <td>6522d40f0562f2f5e506c1c4</td>\n",
       "      <td>Super  Guru Ji</td>\n",
       "      <td>Chat</td>\n",
       "      <td>gurucool</td>\n",
       "      <td>no-refund</td>\n",
       "      <td>2024-01-03T23:36:02.872Z</td>\n",
       "      <td>2024-01-03T23:37:57.348Z</td>\n",
       "      <td>6595ef62849de2bb564ed9fd</td>\n",
       "      <td>2024-01-03T23:36:10.118Z</td>\n",
       "      <td>2024-01-03T23:37:57.259Z</td>\n",
       "      <td>NaN</td>\n",
       "      <td>NaN</td>\n",
       "      <td>completed</td>\n",
       "      <td>Indian</td>\n",
       "      <td>completed</td>\n",
       "      <td>False</td>\n",
       "      <td>normal</td>\n",
       "      <td>Test</td>\n",
       "    </tr>\n",
       "    <tr>\n",
       "      <th>28023</th>\n",
       "      <td>6595f1f3849de2bb564edd7e</td>\n",
       "      <td>6592ef86270572b0ca26a3e3</td>\n",
       "      <td>NaN</td>\n",
       "      <td>65054784f5f203225bfcdcd1</td>\n",
       "      <td>Tarot  Rupanshi</td>\n",
       "      <td>Call</td>\n",
       "      <td>app</td>\n",
       "      <td>no-refund</td>\n",
       "      <td>2024-01-03T23:46:59.765Z</td>\n",
       "      <td>2024-01-03T23:47:50.319Z</td>\n",
       "      <td>6595f1f4849de2bb564edd81</td>\n",
       "      <td>NaN</td>\n",
       "      <td>NaN</td>\n",
       "      <td>Normal</td>\n",
       "      <td>failed</td>\n",
       "      <td>failed</td>\n",
       "      <td>NaN</td>\n",
       "      <td>NaN</td>\n",
       "      <td>False</td>\n",
       "      <td>normal</td>\n",
       "      <td>Test</td>\n",
       "    </tr>\n",
       "    <tr>\n",
       "      <th>28024</th>\n",
       "      <td>6595f23d849de2bb564ee1c9</td>\n",
       "      <td>6592ef86270572b0ca26a3e3</td>\n",
       "      <td>NaN</td>\n",
       "      <td>65054786f5f203225bfcdd0d</td>\n",
       "      <td>Astro  Sanjeev</td>\n",
       "      <td>Call</td>\n",
       "      <td>app</td>\n",
       "      <td>no-refund</td>\n",
       "      <td>2024-01-03T23:48:13.271Z</td>\n",
       "      <td>2024-01-03T23:48:37.907Z</td>\n",
       "      <td>6595f23d849de2bb564ee1cc</td>\n",
       "      <td>NaN</td>\n",
       "      <td>NaN</td>\n",
       "      <td>Normal</td>\n",
       "      <td>failed</td>\n",
       "      <td>completed</td>\n",
       "      <td>NaN</td>\n",
       "      <td>canceled</td>\n",
       "      <td>False</td>\n",
       "      <td>normal</td>\n",
       "      <td>Test</td>\n",
       "    </tr>\n",
       "    <tr>\n",
       "      <th>28025</th>\n",
       "      <td>6595f384883c1bbae79c58e3</td>\n",
       "      <td>6595f36c883c1bbae79c57c9</td>\n",
       "      <td>failed</td>\n",
       "      <td>6522d40f0562f2f5e506c1c4</td>\n",
       "      <td>Super  Guru Ji</td>\n",
       "      <td>Chat</td>\n",
       "      <td>gurucool</td>\n",
       "      <td>no-refund</td>\n",
       "      <td>2024-01-03T23:53:40.997Z</td>\n",
       "      <td>2024-01-03T23:54:16.451Z</td>\n",
       "      <td>6595f385883c1bbae79c58e5</td>\n",
       "      <td>NaN</td>\n",
       "      <td>NaN</td>\n",
       "      <td>NaN</td>\n",
       "      <td>NaN</td>\n",
       "      <td>no-answer</td>\n",
       "      <td>NaN</td>\n",
       "      <td>NaN</td>\n",
       "      <td>False</td>\n",
       "      <td>first</td>\n",
       "      <td>Production</td>\n",
       "    </tr>\n",
       "    <tr>\n",
       "      <th>28026</th>\n",
       "      <td>6595f407883c1bbae79c6e11</td>\n",
       "      <td>6595f36c883c1bbae79c57c9</td>\n",
       "      <td>incomplete</td>\n",
       "      <td>6522d40f0562f2f5e506c1c4</td>\n",
       "      <td>Super  Guru Ji</td>\n",
       "      <td>Chat</td>\n",
       "      <td>gurucool</td>\n",
       "      <td>no-refund</td>\n",
       "      <td>2024-01-03T23:55:51.547Z</td>\n",
       "      <td>2024-01-03T23:57:12.479Z</td>\n",
       "      <td>6595f407883c1bbae79c6e13</td>\n",
       "      <td>2024-01-03T23:57:11.947Z</td>\n",
       "      <td>2024-01-03T23:57:12.445Z</td>\n",
       "      <td>NaN</td>\n",
       "      <td>NaN</td>\n",
       "      <td>NaN</td>\n",
       "      <td>NaN</td>\n",
       "      <td>NaN</td>\n",
       "      <td>False</td>\n",
       "      <td>first</td>\n",
       "      <td>Production</td>\n",
       "    </tr>\n",
       "  </tbody>\n",
       "</table>\n",
       "<p>28027 rows × 21 columns</p>\n",
       "</div>"
      ],
      "text/plain": [
       "                            _id                      user  chatStatus  \\\n",
       "0      656922f2919324acb6e87139  65691b0c919324acb6e7e046  incomplete   \n",
       "1      65692413919324acb6e87441  65691b0c919324acb6e7e046  incomplete   \n",
       "2      65692612919324acb6e87738  656528dcee2b1ab52f019119  incomplete   \n",
       "3      656927c9919324acb6e87b2f  6568ee9f919324acb6e77e53  incomplete   \n",
       "4      65692d75919324acb6e882dd  65629cfc4232eb704d712d98      failed   \n",
       "...                         ...                       ...         ...   \n",
       "28022  6595ef62849de2bb564ed9fb  6592ef86270572b0ca26a3e3   completed   \n",
       "28023  6595f1f3849de2bb564edd7e  6592ef86270572b0ca26a3e3         NaN   \n",
       "28024  6595f23d849de2bb564ee1c9  6592ef86270572b0ca26a3e3         NaN   \n",
       "28025  6595f384883c1bbae79c58e3  6595f36c883c1bbae79c57c9      failed   \n",
       "28026  6595f407883c1bbae79c6e11  6595f36c883c1bbae79c57c9  incomplete   \n",
       "\n",
       "                           guru          guruName consultationType   website  \\\n",
       "0      65054786f5f203225bfcdd0d    Astro  Sanjeev             Chat  gurucool   \n",
       "1      65054786f5f203225bfcdd0d    Astro  Sanjeev             Chat  gurucool   \n",
       "2      65054786f5f203225bfcdd0d    Astro  Sanjeev             Chat  gurucool   \n",
       "3      65054786f5f203225bfcdd0d    Astro  Sanjeev             Chat  gurucool   \n",
       "4      65054786f5f203225bfcdd0d    Astro  Sanjeev             Chat  gurucool   \n",
       "...                         ...               ...              ...       ...   \n",
       "28022  6522d40f0562f2f5e506c1c4    Super  Guru Ji             Chat  gurucool   \n",
       "28023  65054784f5f203225bfcdcd1  Tarot  Rupanshi              Call       app   \n",
       "28024  65054786f5f203225bfcdd0d    Astro  Sanjeev             Call       app   \n",
       "28025  6522d40f0562f2f5e506c1c4    Super  Guru Ji             Chat  gurucool   \n",
       "28026  6522d40f0562f2f5e506c1c4    Super  Guru Ji             Chat  gurucool   \n",
       "\n",
       "      refundStatus                 createdAt                 updatedAt  \\\n",
       "0        no-refund  2023-12-01T00:04:02.993Z  2023-12-01T00:07:33.833Z   \n",
       "1        no-refund  2023-12-01T00:08:51.903Z  2023-12-01T00:09:56.111Z   \n",
       "2        no-refund  2023-12-01T00:17:22.270Z  2023-12-01T00:22:04.382Z   \n",
       "3        no-refund  2023-12-01T00:24:41.672Z  2023-12-01T00:29:44.022Z   \n",
       "4        no-refund  2023-12-01T00:48:53.744Z  2023-12-01T00:50:33.153Z   \n",
       "...            ...                       ...                       ...   \n",
       "28022    no-refund  2024-01-03T23:36:02.872Z  2024-01-03T23:37:57.348Z   \n",
       "28023    no-refund  2024-01-03T23:46:59.765Z  2024-01-03T23:47:50.319Z   \n",
       "28024    no-refund  2024-01-03T23:48:13.271Z  2024-01-03T23:48:37.907Z   \n",
       "28025    no-refund  2024-01-03T23:53:40.997Z  2024-01-03T23:54:16.451Z   \n",
       "28026    no-refund  2024-01-03T23:55:51.547Z  2024-01-03T23:57:12.479Z   \n",
       "\n",
       "               statementEntryId             chatStartTime  \\\n",
       "0      656922f3919324acb6e8713b  2023-12-01T00:07:33.248Z   \n",
       "1      65692413919324acb6e87443  2023-12-01T00:09:55.808Z   \n",
       "2      65692612919324acb6e8773a  2023-12-01T00:22:04.072Z   \n",
       "3      656927c9919324acb6e87b31  2023-12-01T00:29:43.556Z   \n",
       "4      65692d75919324acb6e882df                       NaN   \n",
       "...                         ...                       ...   \n",
       "28022  6595ef62849de2bb564ed9fd  2024-01-03T23:36:10.118Z   \n",
       "28023  6595f1f4849de2bb564edd81                       NaN   \n",
       "28024  6595f23d849de2bb564ee1cc                       NaN   \n",
       "28025  6595f385883c1bbae79c58e5                       NaN   \n",
       "28026  6595f407883c1bbae79c6e13  2024-01-03T23:57:11.947Z   \n",
       "\n",
       "                    chatEndTime callChannel callStatus astrologerCallStatus  \\\n",
       "0      2023-12-01T00:07:33.773Z         NaN        NaN                  NaN   \n",
       "1      2023-12-01T00:09:56.052Z         NaN        NaN                  NaN   \n",
       "2      2023-12-01T00:22:04.325Z         NaN        NaN                  NaN   \n",
       "3      2023-12-01T00:29:43.960Z         NaN        NaN                  NaN   \n",
       "4                           NaN         NaN        NaN                  NaN   \n",
       "...                         ...         ...        ...                  ...   \n",
       "28022  2024-01-03T23:37:57.259Z         NaN        NaN            completed   \n",
       "28023                       NaN      Normal     failed               failed   \n",
       "28024                       NaN      Normal     failed            completed   \n",
       "28025                       NaN         NaN        NaN            no-answer   \n",
       "28026  2024-01-03T23:57:12.445Z         NaN        NaN                  NaN   \n",
       "\n",
       "       region userCallStatus hideHistory   offer      source  \n",
       "0         NaN            NaN         NaN     NaN         NaN  \n",
       "1         NaN            NaN         NaN     NaN         NaN  \n",
       "2         NaN            NaN         NaN     NaN         NaN  \n",
       "3         NaN            NaN         NaN     NaN         NaN  \n",
       "4         NaN            NaN         NaN     NaN         NaN  \n",
       "...       ...            ...         ...     ...         ...  \n",
       "28022  Indian      completed       False  normal        Test  \n",
       "28023     NaN            NaN       False  normal        Test  \n",
       "28024     NaN       canceled       False  normal        Test  \n",
       "28025     NaN            NaN       False   first  Production  \n",
       "28026     NaN            NaN       False   first  Production  \n",
       "\n",
       "[28027 rows x 21 columns]"
      ]
     },
     "execution_count": 14,
     "metadata": {},
     "output_type": "execute_result"
    }
   ],
   "source": [
    "df.select_dtypes(include='object')"
   ]
  },
  {
   "cell_type": "code",
   "execution_count": 15,
   "id": "68b60a0f-9848-40ff-83b2-8740fa2f3892",
   "metadata": {},
   "outputs": [],
   "source": [
    "# filling missing values in chatstatus with unknown \n",
    "\n",
    "df['chatStatus']=df['chatStatus'].fillna('unknown')"
   ]
  },
  {
   "cell_type": "code",
   "execution_count": 16,
   "id": "d78e5b63-3ace-4507-b78e-123b6a3d118d",
   "metadata": {},
   "outputs": [
    {
     "data": {
      "text/plain": [
       "callChannel\n",
       "Normal    8508\n",
       "Name: count, dtype: int64"
      ]
     },
     "execution_count": 16,
     "metadata": {},
     "output_type": "execute_result"
    }
   ],
   "source": [
    "# filling callchannel with unknown,because customer took consultation on chat.\n",
    "\n",
    "df['callChannel'].value_counts()\n",
    "\n",
    "df['callChannel']=df['callChannel'].fillna('unknown')"
   ]
  },
  {
   "cell_type": "code",
   "execution_count": 17,
   "id": "e4c230c6-c169-4fdc-a15a-be097d9ca02a",
   "metadata": {},
   "outputs": [
    {
     "data": {
      "text/plain": [
       "callStatus\n",
       "completed     3453\n",
       "no-answer     1729\n",
       "busy          1270\n",
       "failed        1214\n",
       "incomplete     875\n",
       "Name: count, dtype: int64"
      ]
     },
     "execution_count": 17,
     "metadata": {},
     "output_type": "execute_result"
    }
   ],
   "source": [
    "# filling callstatus with unknown,because customer took consultation on chat\n",
    "\n",
    "df['callStatus'].value_counts()\n",
    "df['callStatus']=df['callStatus'].fillna('unknown')"
   ]
  },
  {
   "cell_type": "code",
   "execution_count": 18,
   "id": "c2938be1-74ac-4396-88fd-9fff610bc7ff",
   "metadata": {},
   "outputs": [
    {
     "data": {
      "text/plain": [
       "astrologerCallStatus\n",
       "completed    9172\n",
       "no-answer    5367\n",
       "busy         1342\n",
       "failed        377\n",
       "Name: count, dtype: int64"
      ]
     },
     "execution_count": 18,
     "metadata": {},
     "output_type": "execute_result"
    }
   ],
   "source": [
    "# filling astrologerCallStatus with unknown\n",
    "\n",
    "df['astrologerCallStatus'].value_counts()\n",
    "\n",
    "df['astrologerCallStatus']=df['astrologerCallStatus'].fillna('unknown')"
   ]
  },
  {
   "cell_type": "code",
   "execution_count": 19,
   "id": "0e8dab02-e260-4f00-8574-d6038984eb61",
   "metadata": {},
   "outputs": [
    {
     "data": {
      "text/plain": [
       "region\n",
       "Indian    9019\n",
       "Name: count, dtype: int64"
      ]
     },
     "execution_count": 19,
     "metadata": {},
     "output_type": "execute_result"
    }
   ],
   "source": [
    "# filling region with unknown\n",
    "\n",
    "df['region'].value_counts()\n",
    "\n",
    "df['region']=df['region'].fillna('unknown')"
   ]
  },
  {
   "cell_type": "code",
   "execution_count": 20,
   "id": "8412494a-0bc8-4c62-8d1b-4c86b8f7e09f",
   "metadata": {},
   "outputs": [
    {
     "data": {
      "text/plain": [
       "userCallStatus\n",
       "completed    7621\n",
       "canceled      992\n",
       "busy          439\n",
       "no-answer     207\n",
       "failed         86\n",
       "Name: count, dtype: int64"
      ]
     },
     "execution_count": 20,
     "metadata": {},
     "output_type": "execute_result"
    }
   ],
   "source": [
    "# filling usercallstatus with unknown\n",
    "\n",
    "df['userCallStatus'].value_counts()\n",
    "\n",
    "df['userCallStatus']=df['userCallStatus'].fillna('unknown')"
   ]
  },
  {
   "cell_type": "code",
   "execution_count": 21,
   "id": "7c6621b2-0422-4563-a171-a79958628abb",
   "metadata": {},
   "outputs": [
    {
     "data": {
      "text/plain": [
       "hideHistory\n",
       "False    19175\n",
       "True       163\n",
       "Name: count, dtype: int64"
      ]
     },
     "execution_count": 21,
     "metadata": {},
     "output_type": "execute_result"
    }
   ],
   "source": [
    "# filling hidehistory with False\n",
    "\n",
    "df['hideHistory'].value_counts()\n",
    "\n",
    "df['hideHistory']=df['hideHistory'].fillna(False)"
   ]
  },
  {
   "cell_type": "code",
   "execution_count": 22,
   "id": "3506207b-e41b-43c0-b9ed-e55ea5581810",
   "metadata": {},
   "outputs": [
    {
     "data": {
      "text/plain": [
       "offer\n",
       "first     15887\n",
       "normal     2237\n",
       "second      310\n",
       "fifth       234\n",
       "third        91\n",
       "fourth       19\n",
       "Name: count, dtype: int64"
      ]
     },
     "execution_count": 22,
     "metadata": {},
     "output_type": "execute_result"
    }
   ],
   "source": [
    "# filling offer with no offer\n",
    "\n",
    "df['offer'].value_counts()\n",
    "\n",
    "df['offer']=df['offer'].fillna('no offer')"
   ]
  },
  {
   "cell_type": "code",
   "execution_count": 23,
   "id": "344c441d-bb81-4584-ae6f-370ef98ca650",
   "metadata": {},
   "outputs": [
    {
     "data": {
      "text/plain": [
       "source\n",
       "Production    16256\n",
       "Test             35\n",
       "Name: count, dtype: int64"
      ]
     },
     "execution_count": 23,
     "metadata": {},
     "output_type": "execute_result"
    }
   ],
   "source": [
    "# filling source with unknown\n",
    "\n",
    "df['source'].value_counts()\n",
    "\n",
    "df['source']=df['source'].fillna('unknown')"
   ]
  },
  {
   "cell_type": "code",
   "execution_count": 24,
   "id": "ec01e87a-e503-4d0c-a9d4-4cfb8222cf19",
   "metadata": {},
   "outputs": [],
   "source": [
    "# our datetime columns are in object dtype,lets convert it to datetime format first\n",
    "\n",
    "df['chatStartTime']=pd.to_datetime(df['chatStartTime'])"
   ]
  },
  {
   "cell_type": "code",
   "execution_count": 25,
   "id": "81298dd4-2180-47d2-8590-ff82092b5fc9",
   "metadata": {},
   "outputs": [],
   "source": [
    "df['chatEndTime']=pd.to_datetime(df['chatEndTime'])"
   ]
  },
  {
   "cell_type": "code",
   "execution_count": 26,
   "id": "532141be-c78d-416f-97f3-e9934f53caf9",
   "metadata": {},
   "outputs": [],
   "source": [
    "df['createdAt']=pd.to_datetime(df['createdAt'])\n",
    "df['updatedAt']=pd.to_datetime(df['updatedAt'])"
   ]
  },
  {
   "cell_type": "code",
   "execution_count": 27,
   "id": "11931100-1d74-41e6-a471-f932631c14a9",
   "metadata": {},
   "outputs": [],
   "source": [
    "# we will keep the missing rows in chatstart and chatend as it is, because we dont know the time,\n",
    "# and we cannot enter any string values "
   ]
  },
  {
   "cell_type": "code",
   "execution_count": null,
   "id": "c85e2f7b-9024-45b5-b7fe-0dd82e6f775b",
   "metadata": {},
   "outputs": [],
   "source": []
  },
  {
   "cell_type": "markdown",
   "id": "2ee578d0-19df-4912-a472-4f38c62a3d39",
   "metadata": {},
   "source": [
    "# identifying missing values in the numerical columns"
   ]
  },
  {
   "cell_type": "code",
   "execution_count": 28,
   "id": "49661ba7-533d-49d0-9f6c-6bc2bdcd8b04",
   "metadata": {},
   "outputs": [],
   "source": [
    "number=df.select_dtypes(include='number').columns\n",
    "\n",
    "numerical_columns=df[number].columns[df[number].isnull().any()]\n",
    "\n",
    "# we have 8 numerical columns which contains missing values"
   ]
  },
  {
   "cell_type": "code",
   "execution_count": 29,
   "id": "dac3a091-ea50-47da-a74f-9f1a981c3491",
   "metadata": {},
   "outputs": [
    {
     "data": {
      "text/plain": [
       "chatSeconds                  8513\n",
       "timeDuration                 6629\n",
       "amount                      19011\n",
       "astrologerOnCallDuration    19662\n",
       "astrologersEarnings         19011\n",
       "netAmount                   19011\n",
       "userOnCallDuration          19662\n",
       "callSeconds                 28025\n",
       "dtype: int64"
      ]
     },
     "execution_count": 29,
     "metadata": {},
     "output_type": "execute_result"
    }
   ],
   "source": [
    "count=df[numerical_columns].isnull().sum()\n",
    "count"
   ]
  },
  {
   "cell_type": "code",
   "execution_count": 30,
   "id": "5e3f9a67-fa54-4a7f-b1bb-8f24964a11e5",
   "metadata": {},
   "outputs": [
    {
     "data": {
      "text/plain": [
       "chatSeconds                 30.374282\n",
       "timeDuration                23.652193\n",
       "amount                      67.831020\n",
       "astrologerOnCallDuration    70.153780\n",
       "astrologersEarnings         67.831020\n",
       "netAmount                   67.831020\n",
       "userOnCallDuration          70.153780\n",
       "callSeconds                 99.992864\n",
       "dtype: float64"
      ]
     },
     "execution_count": 30,
     "metadata": {},
     "output_type": "execute_result"
    }
   ],
   "source": [
    "percentage=df[numerical_columns].isnull().sum()/df.shape[0]*100\n",
    "percentage"
   ]
  },
  {
   "cell_type": "code",
   "execution_count": 31,
   "id": "2470006b-a970-4117-863a-6a3bdfd014eb",
   "metadata": {},
   "outputs": [
    {
     "data": {
      "text/html": [
       "<div>\n",
       "<style scoped>\n",
       "    .dataframe tbody tr th:only-of-type {\n",
       "        vertical-align: middle;\n",
       "    }\n",
       "\n",
       "    .dataframe tbody tr th {\n",
       "        vertical-align: top;\n",
       "    }\n",
       "\n",
       "    .dataframe thead th {\n",
       "        text-align: right;\n",
       "    }\n",
       "</style>\n",
       "<table border=\"1\" class=\"dataframe\">\n",
       "  <thead>\n",
       "    <tr style=\"text-align: right;\">\n",
       "      <th></th>\n",
       "      <th>column</th>\n",
       "      <th>count</th>\n",
       "      <th>percentage</th>\n",
       "    </tr>\n",
       "  </thead>\n",
       "  <tbody>\n",
       "    <tr>\n",
       "      <th>0</th>\n",
       "      <td>chatSeconds</td>\n",
       "      <td>8513</td>\n",
       "      <td>30.374282</td>\n",
       "    </tr>\n",
       "    <tr>\n",
       "      <th>1</th>\n",
       "      <td>timeDuration</td>\n",
       "      <td>6629</td>\n",
       "      <td>23.652193</td>\n",
       "    </tr>\n",
       "    <tr>\n",
       "      <th>2</th>\n",
       "      <td>amount</td>\n",
       "      <td>19011</td>\n",
       "      <td>67.831020</td>\n",
       "    </tr>\n",
       "    <tr>\n",
       "      <th>3</th>\n",
       "      <td>astrologerOnCallDuration</td>\n",
       "      <td>19662</td>\n",
       "      <td>70.153780</td>\n",
       "    </tr>\n",
       "    <tr>\n",
       "      <th>4</th>\n",
       "      <td>astrologersEarnings</td>\n",
       "      <td>19011</td>\n",
       "      <td>67.831020</td>\n",
       "    </tr>\n",
       "    <tr>\n",
       "      <th>5</th>\n",
       "      <td>netAmount</td>\n",
       "      <td>19011</td>\n",
       "      <td>67.831020</td>\n",
       "    </tr>\n",
       "    <tr>\n",
       "      <th>6</th>\n",
       "      <td>userOnCallDuration</td>\n",
       "      <td>19662</td>\n",
       "      <td>70.153780</td>\n",
       "    </tr>\n",
       "    <tr>\n",
       "      <th>7</th>\n",
       "      <td>callSeconds</td>\n",
       "      <td>28025</td>\n",
       "      <td>99.992864</td>\n",
       "    </tr>\n",
       "  </tbody>\n",
       "</table>\n",
       "</div>"
      ],
      "text/plain": [
       "                     column  count  percentage\n",
       "0               chatSeconds   8513   30.374282\n",
       "1              timeDuration   6629   23.652193\n",
       "2                    amount  19011   67.831020\n",
       "3  astrologerOnCallDuration  19662   70.153780\n",
       "4       astrologersEarnings  19011   67.831020\n",
       "5                 netAmount  19011   67.831020\n",
       "6        userOnCallDuration  19662   70.153780\n",
       "7               callSeconds  28025   99.992864"
      ]
     },
     "execution_count": 31,
     "metadata": {},
     "output_type": "execute_result"
    }
   ],
   "source": [
    "# converting into one data frame\n",
    "\n",
    "numerical=pd.DataFrame({'column':numerical_columns,'count':count,'percentage':percentage}).reset_index(drop=True)\n",
    "numerical"
   ]
  },
  {
   "cell_type": "code",
   "execution_count": 32,
   "id": "dd46a6eb-97b4-417a-8860-f0d9d4109908",
   "metadata": {},
   "outputs": [
    {
     "data": {
      "text/plain": [
       "2                      amount\n",
       "3    astrologerOnCallDuration\n",
       "4         astrologersEarnings\n",
       "5                   netAmount\n",
       "6          userOnCallDuration\n",
       "7                 callSeconds\n",
       "Name: column, dtype: object"
      ]
     },
     "execution_count": 32,
     "metadata": {},
     "output_type": "execute_result"
    },
    {
     "data": {
      "text/plain": [
       "6"
      ]
     },
     "execution_count": 32,
     "metadata": {},
     "output_type": "execute_result"
    }
   ],
   "source": [
    "numerical_40=numerical.loc[numerical['percentage']>=40,'column']\n",
    "numerical_40\n",
    "len(numerical_40)\n",
    "\n",
    "# we have 6 columns which contains more than 40% of missing data,which needs to be droped \n",
    "# but we cannot drop these columns, because these columns will be required in our analysis\n",
    "# so we will inpute with zero"
   ]
  },
  {
   "cell_type": "code",
   "execution_count": 33,
   "id": "804a3731-6c14-4886-81c8-31143627a2a0",
   "metadata": {},
   "outputs": [],
   "source": [
    "# droping call seconds data, as it contains 99% missing values\n",
    "\n",
    "df.drop('callSeconds',axis=1,inplace=True)"
   ]
  },
  {
   "cell_type": "code",
   "execution_count": 34,
   "id": "c803cf3a-e19e-489c-9322-19af9385e512",
   "metadata": {},
   "outputs": [],
   "source": [
    "# filling missing values in numeric columns with 0\n",
    "\n",
    "df[['chatSeconds','timeDuration','amount','astrologerOnCallDuration','astrologersEarnings','netAmount','userOnCallDuration']]=df[['chatSeconds','timeDuration','amount','astrologerOnCallDuration','astrologersEarnings','netAmount','userOnCallDuration']].fillna(0)"
   ]
  },
  {
   "cell_type": "code",
   "execution_count": 35,
   "id": "114ee130-1320-4089-a383-77077deeb235",
   "metadata": {},
   "outputs": [
    {
     "data": {
      "text/plain": [
       "gid                         0\n",
       "uid                         0\n",
       "chatSeconds                 0\n",
       "__v                         0\n",
       "timeDuration                0\n",
       "amount                      0\n",
       "astrologerOnCallDuration    0\n",
       "astrologersEarnings         0\n",
       "netAmount                   0\n",
       "userOnCallDuration          0\n",
       "dtype: int64"
      ]
     },
     "execution_count": 35,
     "metadata": {},
     "output_type": "execute_result"
    }
   ],
   "source": [
    "df.select_dtypes(include='number').isnull().sum()"
   ]
  },
  {
   "cell_type": "code",
   "execution_count": 36,
   "id": "9f770a07-a4f3-4ff8-9408-f5da7ba6d602",
   "metadata": {},
   "outputs": [
    {
     "data": {
      "text/plain": [
       "3846"
      ]
     },
     "execution_count": 36,
     "metadata": {},
     "output_type": "execute_result"
    }
   ],
   "source": [
    "# analysing time duration columns\n",
    "\n",
    "df.loc[df['timeDuration']<0].shape[0]\n",
    "\n",
    "# 3846 rows are in negative time, we will convert it to positive\n",
    "\n",
    "df['timeDuration']=df['timeDuration'].abs()"
   ]
  },
  {
   "cell_type": "markdown",
   "id": "875b84d6-b811-4d78-85ee-a69cb63b1ab5",
   "metadata": {},
   "source": [
    "# now our data is cleaned, we can start analysing our dataset"
   ]
  },
  {
   "cell_type": "code",
   "execution_count": 37,
   "id": "71b9d9ed-5216-44b2-91ec-f6d14e6728d1",
   "metadata": {},
   "outputs": [
    {
     "data": {
      "text/html": [
       "<div>\n",
       "<style scoped>\n",
       "    .dataframe tbody tr th:only-of-type {\n",
       "        vertical-align: middle;\n",
       "    }\n",
       "\n",
       "    .dataframe tbody tr th {\n",
       "        vertical-align: top;\n",
       "    }\n",
       "\n",
       "    .dataframe thead th {\n",
       "        text-align: right;\n",
       "    }\n",
       "</style>\n",
       "<table border=\"1\" class=\"dataframe\">\n",
       "  <thead>\n",
       "    <tr style=\"text-align: right;\">\n",
       "      <th></th>\n",
       "      <th>_id</th>\n",
       "      <th>user</th>\n",
       "      <th>chatStatus</th>\n",
       "      <th>guru</th>\n",
       "      <th>guruName</th>\n",
       "      <th>gid</th>\n",
       "      <th>uid</th>\n",
       "      <th>consultationType</th>\n",
       "      <th>website</th>\n",
       "      <th>refundStatus</th>\n",
       "      <th>isWhiteListUser</th>\n",
       "      <th>chatSeconds</th>\n",
       "      <th>queue</th>\n",
       "      <th>freeCall</th>\n",
       "      <th>freeChat</th>\n",
       "      <th>createdAt</th>\n",
       "      <th>updatedAt</th>\n",
       "      <th>__v</th>\n",
       "      <th>statementEntryId</th>\n",
       "      <th>chatStartTime</th>\n",
       "      <th>chatEndTime</th>\n",
       "      <th>timeDuration</th>\n",
       "      <th>callChannel</th>\n",
       "      <th>callStatus</th>\n",
       "      <th>amount</th>\n",
       "      <th>astrologerCallStatus</th>\n",
       "      <th>astrologerOnCallDuration</th>\n",
       "      <th>astrologersEarnings</th>\n",
       "      <th>netAmount</th>\n",
       "      <th>region</th>\n",
       "      <th>userCallStatus</th>\n",
       "      <th>userOnCallDuration</th>\n",
       "      <th>hideHistory</th>\n",
       "      <th>offer</th>\n",
       "      <th>source</th>\n",
       "    </tr>\n",
       "  </thead>\n",
       "  <tbody>\n",
       "    <tr>\n",
       "      <th>0</th>\n",
       "      <td>656922f2919324acb6e87139</td>\n",
       "      <td>65691b0c919324acb6e7e046</td>\n",
       "      <td>incomplete</td>\n",
       "      <td>65054786f5f203225bfcdd0d</td>\n",
       "      <td>Astro  Sanjeev</td>\n",
       "      <td>95</td>\n",
       "      <td>30129</td>\n",
       "      <td>Chat</td>\n",
       "      <td>gurucool</td>\n",
       "      <td>no-refund</td>\n",
       "      <td>False</td>\n",
       "      <td>300.0</td>\n",
       "      <td>False</td>\n",
       "      <td>False</td>\n",
       "      <td>True</td>\n",
       "      <td>2023-12-01 00:04:02.993000+00:00</td>\n",
       "      <td>2023-12-01 00:07:33.833000+00:00</td>\n",
       "      <td>0</td>\n",
       "      <td>656922f3919324acb6e8713b</td>\n",
       "      <td>2023-12-01 00:07:33.248000+00:00</td>\n",
       "      <td>2023-12-01 00:07:33.773000+00:00</td>\n",
       "      <td>0.008750</td>\n",
       "      <td>unknown</td>\n",
       "      <td>unknown</td>\n",
       "      <td>0.0</td>\n",
       "      <td>unknown</td>\n",
       "      <td>0.0</td>\n",
       "      <td>0.0</td>\n",
       "      <td>0.0</td>\n",
       "      <td>unknown</td>\n",
       "      <td>unknown</td>\n",
       "      <td>0.0</td>\n",
       "      <td>False</td>\n",
       "      <td>no offer</td>\n",
       "      <td>unknown</td>\n",
       "    </tr>\n",
       "    <tr>\n",
       "      <th>1</th>\n",
       "      <td>65692413919324acb6e87441</td>\n",
       "      <td>65691b0c919324acb6e7e046</td>\n",
       "      <td>incomplete</td>\n",
       "      <td>65054786f5f203225bfcdd0d</td>\n",
       "      <td>Astro  Sanjeev</td>\n",
       "      <td>95</td>\n",
       "      <td>30129</td>\n",
       "      <td>Chat</td>\n",
       "      <td>gurucool</td>\n",
       "      <td>no-refund</td>\n",
       "      <td>False</td>\n",
       "      <td>300.0</td>\n",
       "      <td>False</td>\n",
       "      <td>False</td>\n",
       "      <td>True</td>\n",
       "      <td>2023-12-01 00:08:51.903000+00:00</td>\n",
       "      <td>2023-12-01 00:09:56.111000+00:00</td>\n",
       "      <td>0</td>\n",
       "      <td>65692413919324acb6e87443</td>\n",
       "      <td>2023-12-01 00:09:55.808000+00:00</td>\n",
       "      <td>2023-12-01 00:09:56.052000+00:00</td>\n",
       "      <td>0.004067</td>\n",
       "      <td>unknown</td>\n",
       "      <td>unknown</td>\n",
       "      <td>0.0</td>\n",
       "      <td>unknown</td>\n",
       "      <td>0.0</td>\n",
       "      <td>0.0</td>\n",
       "      <td>0.0</td>\n",
       "      <td>unknown</td>\n",
       "      <td>unknown</td>\n",
       "      <td>0.0</td>\n",
       "      <td>False</td>\n",
       "      <td>no offer</td>\n",
       "      <td>unknown</td>\n",
       "    </tr>\n",
       "    <tr>\n",
       "      <th>2</th>\n",
       "      <td>65692612919324acb6e87738</td>\n",
       "      <td>656528dcee2b1ab52f019119</td>\n",
       "      <td>incomplete</td>\n",
       "      <td>65054786f5f203225bfcdd0d</td>\n",
       "      <td>Astro  Sanjeev</td>\n",
       "      <td>95</td>\n",
       "      <td>28743</td>\n",
       "      <td>Chat</td>\n",
       "      <td>gurucool</td>\n",
       "      <td>no-refund</td>\n",
       "      <td>False</td>\n",
       "      <td>300.0</td>\n",
       "      <td>False</td>\n",
       "      <td>False</td>\n",
       "      <td>True</td>\n",
       "      <td>2023-12-01 00:17:22.270000+00:00</td>\n",
       "      <td>2023-12-01 00:22:04.382000+00:00</td>\n",
       "      <td>0</td>\n",
       "      <td>65692612919324acb6e8773a</td>\n",
       "      <td>2023-12-01 00:22:04.072000+00:00</td>\n",
       "      <td>2023-12-01 00:22:04.325000+00:00</td>\n",
       "      <td>0.004217</td>\n",
       "      <td>unknown</td>\n",
       "      <td>unknown</td>\n",
       "      <td>0.0</td>\n",
       "      <td>unknown</td>\n",
       "      <td>0.0</td>\n",
       "      <td>0.0</td>\n",
       "      <td>0.0</td>\n",
       "      <td>unknown</td>\n",
       "      <td>unknown</td>\n",
       "      <td>0.0</td>\n",
       "      <td>False</td>\n",
       "      <td>no offer</td>\n",
       "      <td>unknown</td>\n",
       "    </tr>\n",
       "    <tr>\n",
       "      <th>3</th>\n",
       "      <td>656927c9919324acb6e87b2f</td>\n",
       "      <td>6568ee9f919324acb6e77e53</td>\n",
       "      <td>incomplete</td>\n",
       "      <td>65054786f5f203225bfcdd0d</td>\n",
       "      <td>Astro  Sanjeev</td>\n",
       "      <td>95</td>\n",
       "      <td>30120</td>\n",
       "      <td>Chat</td>\n",
       "      <td>gurucool</td>\n",
       "      <td>no-refund</td>\n",
       "      <td>False</td>\n",
       "      <td>300.0</td>\n",
       "      <td>False</td>\n",
       "      <td>False</td>\n",
       "      <td>True</td>\n",
       "      <td>2023-12-01 00:24:41.672000+00:00</td>\n",
       "      <td>2023-12-01 00:29:44.022000+00:00</td>\n",
       "      <td>0</td>\n",
       "      <td>656927c9919324acb6e87b31</td>\n",
       "      <td>2023-12-01 00:29:43.556000+00:00</td>\n",
       "      <td>2023-12-01 00:29:43.960000+00:00</td>\n",
       "      <td>0.006733</td>\n",
       "      <td>unknown</td>\n",
       "      <td>unknown</td>\n",
       "      <td>0.0</td>\n",
       "      <td>unknown</td>\n",
       "      <td>0.0</td>\n",
       "      <td>0.0</td>\n",
       "      <td>0.0</td>\n",
       "      <td>unknown</td>\n",
       "      <td>unknown</td>\n",
       "      <td>0.0</td>\n",
       "      <td>False</td>\n",
       "      <td>no offer</td>\n",
       "      <td>unknown</td>\n",
       "    </tr>\n",
       "    <tr>\n",
       "      <th>4</th>\n",
       "      <td>65692d75919324acb6e882dd</td>\n",
       "      <td>65629cfc4232eb704d712d98</td>\n",
       "      <td>failed</td>\n",
       "      <td>65054786f5f203225bfcdd0d</td>\n",
       "      <td>Astro  Sanjeev</td>\n",
       "      <td>95</td>\n",
       "      <td>27790</td>\n",
       "      <td>Chat</td>\n",
       "      <td>gurucool</td>\n",
       "      <td>no-refund</td>\n",
       "      <td>False</td>\n",
       "      <td>300.0</td>\n",
       "      <td>False</td>\n",
       "      <td>False</td>\n",
       "      <td>False</td>\n",
       "      <td>2023-12-01 00:48:53.744000+00:00</td>\n",
       "      <td>2023-12-01 00:50:33.153000+00:00</td>\n",
       "      <td>0</td>\n",
       "      <td>65692d75919324acb6e882df</td>\n",
       "      <td>NaT</td>\n",
       "      <td>NaT</td>\n",
       "      <td>0.000000</td>\n",
       "      <td>unknown</td>\n",
       "      <td>unknown</td>\n",
       "      <td>0.0</td>\n",
       "      <td>unknown</td>\n",
       "      <td>0.0</td>\n",
       "      <td>0.0</td>\n",
       "      <td>0.0</td>\n",
       "      <td>unknown</td>\n",
       "      <td>unknown</td>\n",
       "      <td>0.0</td>\n",
       "      <td>False</td>\n",
       "      <td>no offer</td>\n",
       "      <td>unknown</td>\n",
       "    </tr>\n",
       "  </tbody>\n",
       "</table>\n",
       "</div>"
      ],
      "text/plain": [
       "                        _id                      user  chatStatus  \\\n",
       "0  656922f2919324acb6e87139  65691b0c919324acb6e7e046  incomplete   \n",
       "1  65692413919324acb6e87441  65691b0c919324acb6e7e046  incomplete   \n",
       "2  65692612919324acb6e87738  656528dcee2b1ab52f019119  incomplete   \n",
       "3  656927c9919324acb6e87b2f  6568ee9f919324acb6e77e53  incomplete   \n",
       "4  65692d75919324acb6e882dd  65629cfc4232eb704d712d98      failed   \n",
       "\n",
       "                       guru        guruName  gid    uid consultationType  \\\n",
       "0  65054786f5f203225bfcdd0d  Astro  Sanjeev   95  30129             Chat   \n",
       "1  65054786f5f203225bfcdd0d  Astro  Sanjeev   95  30129             Chat   \n",
       "2  65054786f5f203225bfcdd0d  Astro  Sanjeev   95  28743             Chat   \n",
       "3  65054786f5f203225bfcdd0d  Astro  Sanjeev   95  30120             Chat   \n",
       "4  65054786f5f203225bfcdd0d  Astro  Sanjeev   95  27790             Chat   \n",
       "\n",
       "    website refundStatus  isWhiteListUser  chatSeconds  queue  freeCall  \\\n",
       "0  gurucool    no-refund            False        300.0  False     False   \n",
       "1  gurucool    no-refund            False        300.0  False     False   \n",
       "2  gurucool    no-refund            False        300.0  False     False   \n",
       "3  gurucool    no-refund            False        300.0  False     False   \n",
       "4  gurucool    no-refund            False        300.0  False     False   \n",
       "\n",
       "   freeChat                        createdAt                        updatedAt  \\\n",
       "0      True 2023-12-01 00:04:02.993000+00:00 2023-12-01 00:07:33.833000+00:00   \n",
       "1      True 2023-12-01 00:08:51.903000+00:00 2023-12-01 00:09:56.111000+00:00   \n",
       "2      True 2023-12-01 00:17:22.270000+00:00 2023-12-01 00:22:04.382000+00:00   \n",
       "3      True 2023-12-01 00:24:41.672000+00:00 2023-12-01 00:29:44.022000+00:00   \n",
       "4     False 2023-12-01 00:48:53.744000+00:00 2023-12-01 00:50:33.153000+00:00   \n",
       "\n",
       "   __v          statementEntryId                    chatStartTime  \\\n",
       "0    0  656922f3919324acb6e8713b 2023-12-01 00:07:33.248000+00:00   \n",
       "1    0  65692413919324acb6e87443 2023-12-01 00:09:55.808000+00:00   \n",
       "2    0  65692612919324acb6e8773a 2023-12-01 00:22:04.072000+00:00   \n",
       "3    0  656927c9919324acb6e87b31 2023-12-01 00:29:43.556000+00:00   \n",
       "4    0  65692d75919324acb6e882df                              NaT   \n",
       "\n",
       "                       chatEndTime  timeDuration callChannel callStatus  \\\n",
       "0 2023-12-01 00:07:33.773000+00:00      0.008750     unknown    unknown   \n",
       "1 2023-12-01 00:09:56.052000+00:00      0.004067     unknown    unknown   \n",
       "2 2023-12-01 00:22:04.325000+00:00      0.004217     unknown    unknown   \n",
       "3 2023-12-01 00:29:43.960000+00:00      0.006733     unknown    unknown   \n",
       "4                              NaT      0.000000     unknown    unknown   \n",
       "\n",
       "   amount astrologerCallStatus  astrologerOnCallDuration  astrologersEarnings  \\\n",
       "0     0.0              unknown                       0.0                  0.0   \n",
       "1     0.0              unknown                       0.0                  0.0   \n",
       "2     0.0              unknown                       0.0                  0.0   \n",
       "3     0.0              unknown                       0.0                  0.0   \n",
       "4     0.0              unknown                       0.0                  0.0   \n",
       "\n",
       "   netAmount   region userCallStatus  userOnCallDuration  hideHistory  \\\n",
       "0        0.0  unknown        unknown                 0.0        False   \n",
       "1        0.0  unknown        unknown                 0.0        False   \n",
       "2        0.0  unknown        unknown                 0.0        False   \n",
       "3        0.0  unknown        unknown                 0.0        False   \n",
       "4        0.0  unknown        unknown                 0.0        False   \n",
       "\n",
       "      offer   source  \n",
       "0  no offer  unknown  \n",
       "1  no offer  unknown  \n",
       "2  no offer  unknown  \n",
       "3  no offer  unknown  \n",
       "4  no offer  unknown  "
      ]
     },
     "execution_count": 37,
     "metadata": {},
     "output_type": "execute_result"
    }
   ],
   "source": [
    "df.head()"
   ]
  },
  {
   "cell_type": "code",
   "execution_count": 38,
   "id": "86229e47-fda8-4074-b18c-3f6152ba99ce",
   "metadata": {},
   "outputs": [
    {
     "data": {
      "text/plain": [
       "Index(['_id', 'user', 'chatStatus', 'guru', 'guruName', 'gid', 'uid',\n",
       "       'consultationType', 'website', 'refundStatus', 'isWhiteListUser',\n",
       "       'chatSeconds', 'queue', 'freeCall', 'freeChat', 'createdAt',\n",
       "       'updatedAt', '__v', 'statementEntryId', 'chatStartTime', 'chatEndTime',\n",
       "       'timeDuration', 'callChannel', 'callStatus', 'amount',\n",
       "       'astrologerCallStatus', 'astrologerOnCallDuration',\n",
       "       'astrologersEarnings', 'netAmount', 'region', 'userCallStatus',\n",
       "       'userOnCallDuration', 'hideHistory', 'offer', 'source'],\n",
       "      dtype='object')"
      ]
     },
     "execution_count": 38,
     "metadata": {},
     "output_type": "execute_result"
    }
   ],
   "source": [
    "df.columns"
   ]
  },
  {
   "cell_type": "code",
   "execution_count": 39,
   "id": "f1813cbd-aac7-411f-aca4-4af539559281",
   "metadata": {},
   "outputs": [
    {
     "data": {
      "text/plain": [
       "(28027, 35)"
      ]
     },
     "execution_count": 39,
     "metadata": {},
     "output_type": "execute_result"
    }
   ],
   "source": [
    "df.shape"
   ]
  },
  {
   "cell_type": "code",
   "execution_count": 40,
   "id": "7e21ff3b-0d62-4ae6-bb75-c52b93762204",
   "metadata": {},
   "outputs": [
    {
     "name": "stdout",
     "output_type": "stream",
     "text": [
      "<class 'pandas.core.frame.DataFrame'>\n",
      "RangeIndex: 28027 entries, 0 to 28026\n",
      "Data columns (total 35 columns):\n",
      " #   Column                    Non-Null Count  Dtype              \n",
      "---  ------                    --------------  -----              \n",
      " 0   _id                       28027 non-null  object             \n",
      " 1   user                      28027 non-null  object             \n",
      " 2   chatStatus                28027 non-null  object             \n",
      " 3   guru                      28027 non-null  object             \n",
      " 4   guruName                  28027 non-null  object             \n",
      " 5   gid                       28027 non-null  int64              \n",
      " 6   uid                       28027 non-null  int64              \n",
      " 7   consultationType          28027 non-null  object             \n",
      " 8   website                   28027 non-null  object             \n",
      " 9   refundStatus              28027 non-null  object             \n",
      " 10  isWhiteListUser           28027 non-null  bool               \n",
      " 11  chatSeconds               28027 non-null  float64            \n",
      " 12  queue                     28027 non-null  bool               \n",
      " 13  freeCall                  28027 non-null  bool               \n",
      " 14  freeChat                  28027 non-null  bool               \n",
      " 15  createdAt                 28027 non-null  datetime64[ns, UTC]\n",
      " 16  updatedAt                 28027 non-null  datetime64[ns, UTC]\n",
      " 17  __v                       28027 non-null  int64              \n",
      " 18  statementEntryId          27876 non-null  object             \n",
      " 19  chatStartTime             9330 non-null   datetime64[ns, UTC]\n",
      " 20  chatEndTime               13031 non-null  datetime64[ns, UTC]\n",
      " 21  timeDuration              28027 non-null  float64            \n",
      " 22  callChannel               28027 non-null  object             \n",
      " 23  callStatus                28027 non-null  object             \n",
      " 24  amount                    28027 non-null  float64            \n",
      " 25  astrologerCallStatus      28027 non-null  object             \n",
      " 26  astrologerOnCallDuration  28027 non-null  float64            \n",
      " 27  astrologersEarnings       28027 non-null  float64            \n",
      " 28  netAmount                 28027 non-null  float64            \n",
      " 29  region                    28027 non-null  object             \n",
      " 30  userCallStatus            28027 non-null  object             \n",
      " 31  userOnCallDuration        28027 non-null  float64            \n",
      " 32  hideHistory               28027 non-null  bool               \n",
      " 33  offer                     28027 non-null  object             \n",
      " 34  source                    28027 non-null  object             \n",
      "dtypes: bool(5), datetime64[ns, UTC](4), float64(7), int64(3), object(16)\n",
      "memory usage: 6.5+ MB\n"
     ]
    }
   ],
   "source": [
    "df.info(verbose=True)"
   ]
  },
  {
   "cell_type": "markdown",
   "id": "62a129c9-e021-4f03-9cbe-6a92ed6b5fe5",
   "metadata": {},
   "source": [
    "#  Provide summary statistics for key numeric columns "
   ]
  },
  {
   "cell_type": "code",
   "execution_count": 41,
   "id": "3ed98a42-f752-4040-8817-4f79d4e1743f",
   "metadata": {},
   "outputs": [
    {
     "data": {
      "text/html": [
       "<div>\n",
       "<style scoped>\n",
       "    .dataframe tbody tr th:only-of-type {\n",
       "        vertical-align: middle;\n",
       "    }\n",
       "\n",
       "    .dataframe tbody tr th {\n",
       "        vertical-align: top;\n",
       "    }\n",
       "\n",
       "    .dataframe thead th {\n",
       "        text-align: right;\n",
       "    }\n",
       "</style>\n",
       "<table border=\"1\" class=\"dataframe\">\n",
       "  <thead>\n",
       "    <tr style=\"text-align: right;\">\n",
       "      <th></th>\n",
       "      <th>count</th>\n",
       "      <th>mean</th>\n",
       "      <th>std</th>\n",
       "      <th>min</th>\n",
       "      <th>25%</th>\n",
       "      <th>50%</th>\n",
       "      <th>75%</th>\n",
       "      <th>max</th>\n",
       "    </tr>\n",
       "  </thead>\n",
       "  <tbody>\n",
       "    <tr>\n",
       "      <th>gid</th>\n",
       "      <td>28027.0</td>\n",
       "      <td>221.0</td>\n",
       "      <td>87.0</td>\n",
       "      <td>8.0</td>\n",
       "      <td>195.0</td>\n",
       "      <td>255.0</td>\n",
       "      <td>281.0</td>\n",
       "      <td>325.0</td>\n",
       "    </tr>\n",
       "    <tr>\n",
       "      <th>uid</th>\n",
       "      <td>28027.0</td>\n",
       "      <td>34846.0</td>\n",
       "      <td>7812.0</td>\n",
       "      <td>1.0</td>\n",
       "      <td>31659.0</td>\n",
       "      <td>36213.0</td>\n",
       "      <td>40109.0</td>\n",
       "      <td>44005.0</td>\n",
       "    </tr>\n",
       "    <tr>\n",
       "      <th>chatSeconds</th>\n",
       "      <td>28027.0</td>\n",
       "      <td>243.0</td>\n",
       "      <td>311.0</td>\n",
       "      <td>0.0</td>\n",
       "      <td>0.0</td>\n",
       "      <td>300.0</td>\n",
       "      <td>300.0</td>\n",
       "      <td>7980.0</td>\n",
       "    </tr>\n",
       "    <tr>\n",
       "      <th>__v</th>\n",
       "      <td>28027.0</td>\n",
       "      <td>0.0</td>\n",
       "      <td>0.0</td>\n",
       "      <td>0.0</td>\n",
       "      <td>0.0</td>\n",
       "      <td>0.0</td>\n",
       "      <td>0.0</td>\n",
       "      <td>1.0</td>\n",
       "    </tr>\n",
       "    <tr>\n",
       "      <th>timeDuration</th>\n",
       "      <td>28027.0</td>\n",
       "      <td>2.0</td>\n",
       "      <td>3.0</td>\n",
       "      <td>0.0</td>\n",
       "      <td>0.0</td>\n",
       "      <td>0.0</td>\n",
       "      <td>3.0</td>\n",
       "      <td>67.0</td>\n",
       "    </tr>\n",
       "    <tr>\n",
       "      <th>amount</th>\n",
       "      <td>28027.0</td>\n",
       "      <td>8.0</td>\n",
       "      <td>51.0</td>\n",
       "      <td>0.0</td>\n",
       "      <td>0.0</td>\n",
       "      <td>0.0</td>\n",
       "      <td>0.0</td>\n",
       "      <td>1800.0</td>\n",
       "    </tr>\n",
       "    <tr>\n",
       "      <th>astrologerOnCallDuration</th>\n",
       "      <td>28027.0</td>\n",
       "      <td>38.0</td>\n",
       "      <td>146.0</td>\n",
       "      <td>0.0</td>\n",
       "      <td>0.0</td>\n",
       "      <td>0.0</td>\n",
       "      <td>0.0</td>\n",
       "      <td>4029.0</td>\n",
       "    </tr>\n",
       "    <tr>\n",
       "      <th>astrologersEarnings</th>\n",
       "      <td>28027.0</td>\n",
       "      <td>4.0</td>\n",
       "      <td>24.0</td>\n",
       "      <td>0.0</td>\n",
       "      <td>0.0</td>\n",
       "      <td>0.0</td>\n",
       "      <td>0.0</td>\n",
       "      <td>900.0</td>\n",
       "    </tr>\n",
       "    <tr>\n",
       "      <th>netAmount</th>\n",
       "      <td>28027.0</td>\n",
       "      <td>8.0</td>\n",
       "      <td>51.0</td>\n",
       "      <td>0.0</td>\n",
       "      <td>0.0</td>\n",
       "      <td>0.0</td>\n",
       "      <td>0.0</td>\n",
       "      <td>1800.0</td>\n",
       "    </tr>\n",
       "    <tr>\n",
       "      <th>userOnCallDuration</th>\n",
       "      <td>28027.0</td>\n",
       "      <td>35.0</td>\n",
       "      <td>144.0</td>\n",
       "      <td>0.0</td>\n",
       "      <td>0.0</td>\n",
       "      <td>0.0</td>\n",
       "      <td>0.0</td>\n",
       "      <td>4020.0</td>\n",
       "    </tr>\n",
       "  </tbody>\n",
       "</table>\n",
       "</div>"
      ],
      "text/plain": [
       "                            count     mean     std  min      25%      50%  \\\n",
       "gid                       28027.0    221.0    87.0  8.0    195.0    255.0   \n",
       "uid                       28027.0  34846.0  7812.0  1.0  31659.0  36213.0   \n",
       "chatSeconds               28027.0    243.0   311.0  0.0      0.0    300.0   \n",
       "__v                       28027.0      0.0     0.0  0.0      0.0      0.0   \n",
       "timeDuration              28027.0      2.0     3.0  0.0      0.0      0.0   \n",
       "amount                    28027.0      8.0    51.0  0.0      0.0      0.0   \n",
       "astrologerOnCallDuration  28027.0     38.0   146.0  0.0      0.0      0.0   \n",
       "astrologersEarnings       28027.0      4.0    24.0  0.0      0.0      0.0   \n",
       "netAmount                 28027.0      8.0    51.0  0.0      0.0      0.0   \n",
       "userOnCallDuration        28027.0     35.0   144.0  0.0      0.0      0.0   \n",
       "\n",
       "                              75%      max  \n",
       "gid                         281.0    325.0  \n",
       "uid                       40109.0  44005.0  \n",
       "chatSeconds                 300.0   7980.0  \n",
       "__v                           0.0      1.0  \n",
       "timeDuration                  3.0     67.0  \n",
       "amount                        0.0   1800.0  \n",
       "astrologerOnCallDuration      0.0   4029.0  \n",
       "astrologersEarnings           0.0    900.0  \n",
       "netAmount                     0.0   1800.0  \n",
       "userOnCallDuration            0.0   4020.0  "
      ]
     },
     "execution_count": 41,
     "metadata": {},
     "output_type": "execute_result"
    }
   ],
   "source": [
    "df.describe(include='number').apply(lambda x: round(x)).T"
   ]
  },
  {
   "cell_type": "code",
   "execution_count": 42,
   "id": "db7f2d76-9d4f-45cb-87ba-a0e881a4fcf3",
   "metadata": {},
   "outputs": [
    {
     "name": "stdout",
     "output_type": "stream",
     "text": [
      "['Solarize_Light2', '_classic_test_patch', '_mpl-gallery', '_mpl-gallery-nogrid', 'bmh', 'classic', 'dark_background', 'fast', 'fivethirtyeight', 'ggplot', 'grayscale', 'seaborn-v0_8', 'seaborn-v0_8-bright', 'seaborn-v0_8-colorblind', 'seaborn-v0_8-dark', 'seaborn-v0_8-dark-palette', 'seaborn-v0_8-darkgrid', 'seaborn-v0_8-deep', 'seaborn-v0_8-muted', 'seaborn-v0_8-notebook', 'seaborn-v0_8-paper', 'seaborn-v0_8-pastel', 'seaborn-v0_8-poster', 'seaborn-v0_8-talk', 'seaborn-v0_8-ticks', 'seaborn-v0_8-white', 'seaborn-v0_8-whitegrid', 'tableau-colorblind10']\n"
     ]
    }
   ],
   "source": [
    "print(plt.style.available)"
   ]
  },
  {
   "cell_type": "markdown",
   "id": "bbe836b8-6aa5-4ab6-9762-c36251f9250d",
   "metadata": {},
   "source": [
    "# 4. Visualize the distribution of call charges using a histogram"
   ]
  },
  {
   "cell_type": "code",
   "execution_count": 43,
   "id": "0cfdd0e3-b130-45fd-b19b-0e270eab313e",
   "metadata": {},
   "outputs": [
    {
     "data": {
      "text/plain": [
       "<seaborn.axisgrid.FacetGrid at 0x269265f3bd0>"
      ]
     },
     "execution_count": 43,
     "metadata": {},
     "output_type": "execute_result"
    },
    {
     "data": {
      "image/png": "[encoded data removed]",
      "text/plain": [
       "<Figure size 1800x300 with 6 Axes>"
      ]
     },
     "metadata": {},
     "output_type": "display_data"
    }
   ],
   "source": [
    "x=sns.FacetGrid(df,col='callStatus',col_wrap=6)\n",
    "x.map(sns.histplot,'amount',kde=True,color='green')"
   ]
  },
  {
   "cell_type": "code",
   "execution_count": 44,
   "id": "b1afbb92-baae-443d-8417-9e48964d202f",
   "metadata": {},
   "outputs": [
    {
     "data": {
      "text/plain": [
       "<Figure size 700x400 with 0 Axes>"
      ]
     },
     "execution_count": 44,
     "metadata": {},
     "output_type": "execute_result"
    },
    {
     "data": {
      "text/plain": [
       "<Axes: xlabel='amount', ylabel='Count'>"
      ]
     },
     "execution_count": 44,
     "metadata": {},
     "output_type": "execute_result"
    },
    {
     "data": {
      "text/plain": [
       "Text(0.5, 1.0, 'Distribution of call charges')"
      ]
     },
     "execution_count": 44,
     "metadata": {},
     "output_type": "execute_result"
    },
    {
     "data": {
      "text/plain": [
       "Text(0, 0.5, 'Frequency')"
      ]
     },
     "execution_count": 44,
     "metadata": {},
     "output_type": "execute_result"
    },
    {
     "data": {
      "image/png": "[encoded data removed]",
      "text/plain": [
       "<Figure size 700x400 with 1 Axes>"
      ]
     },
     "metadata": {},
     "output_type": "display_data"
    }
   ],
   "source": [
    "plt.figure(figsize=(7,4))\n",
    "plt.style.use('ggplot')\n",
    "sns.histplot(x='amount',kde=True,data=df,color='green')\n",
    "plt.title('Distribution of call charges')\n",
    "plt.ylabel('Frequency')\n",
    "plt.show()\n",
    "\n",
    "# insights:\n",
    "# we can see that amount column is right skweed, which means it contains outliers"
   ]
  },
  {
   "cell_type": "markdown",
   "id": "997364c1-f193-49ec-b4ca-7fe14f2f86d0",
   "metadata": {},
   "source": [
    "#  Task 2: Call Center Performance Metrics"
   ]
  },
  {
   "cell_type": "markdown",
   "id": "a03f2721-e0c3-4c67-a9ef-1403ed87f630",
   "metadata": {},
   "source": [
    "#  5. Calculate the average TalkTime for different call activities (Activity column)"
   ]
  },
  {
   "cell_type": "code",
   "execution_count": 45,
   "id": "08baf0c9-d87a-4891-b9de-f8d1c5c78fc5",
   "metadata": {},
   "outputs": [
    {
     "data": {
      "text/html": [
       "<div>\n",
       "<style scoped>\n",
       "    .dataframe tbody tr th:only-of-type {\n",
       "        vertical-align: middle;\n",
       "    }\n",
       "\n",
       "    .dataframe tbody tr th {\n",
       "        vertical-align: top;\n",
       "    }\n",
       "\n",
       "    .dataframe thead th {\n",
       "        text-align: right;\n",
       "    }\n",
       "</style>\n",
       "<table border=\"1\" class=\"dataframe\">\n",
       "  <thead>\n",
       "    <tr style=\"text-align: right;\">\n",
       "      <th></th>\n",
       "      <th>callStatus</th>\n",
       "      <th>timeDuration</th>\n",
       "    </tr>\n",
       "  </thead>\n",
       "  <tbody>\n",
       "    <tr>\n",
       "      <th>0</th>\n",
       "      <td>busy</td>\n",
       "      <td>0.000000</td>\n",
       "    </tr>\n",
       "    <tr>\n",
       "      <th>1</th>\n",
       "      <td>completed</td>\n",
       "      <td>4.727163</td>\n",
       "    </tr>\n",
       "    <tr>\n",
       "      <th>2</th>\n",
       "      <td>failed</td>\n",
       "      <td>0.005245</td>\n",
       "    </tr>\n",
       "    <tr>\n",
       "      <th>3</th>\n",
       "      <td>incomplete</td>\n",
       "      <td>0.277429</td>\n",
       "    </tr>\n",
       "    <tr>\n",
       "      <th>4</th>\n",
       "      <td>no-answer</td>\n",
       "      <td>0.000000</td>\n",
       "    </tr>\n",
       "    <tr>\n",
       "      <th>5</th>\n",
       "      <td>unknown</td>\n",
       "      <td>1.385795</td>\n",
       "    </tr>\n",
       "  </tbody>\n",
       "</table>\n",
       "</div>"
      ],
      "text/plain": [
       "   callStatus  timeDuration\n",
       "0        busy      0.000000\n",
       "1   completed      4.727163\n",
       "2      failed      0.005245\n",
       "3  incomplete      0.277429\n",
       "4   no-answer      0.000000\n",
       "5     unknown      1.385795"
      ]
     },
     "execution_count": 45,
     "metadata": {},
     "output_type": "execute_result"
    }
   ],
   "source": [
    "# we dont have activity column, so we will use call status column\n",
    "\n",
    "df.groupby('callStatus').agg({'timeDuration':'mean'}).reset_index()\n",
    "\n",
    "# note: the unknown columns indicates the customer consulted on chat.\n",
    "\n",
    "# the avg talk time for completed call is 4.72 minutes."
   ]
  },
  {
   "cell_type": "markdown",
   "id": "73388704-ad82-4745-9262-d66d613e5cc1",
   "metadata": {},
   "source": [
    "#  6. Determine the most common source of calls (Source column)"
   ]
  },
  {
   "cell_type": "code",
   "execution_count": 46,
   "id": "5dc84cdc-32f0-4523-970e-714a2dcb9cf7",
   "metadata": {},
   "outputs": [
    {
     "data": {
      "text/plain": [
       "'Production'"
      ]
     },
     "execution_count": 46,
     "metadata": {},
     "output_type": "execute_result"
    }
   ],
   "source": [
    "df['source'].value_counts().idxmax()\n",
    "\n",
    "# the most common source is production"
   ]
  },
  {
   "cell_type": "markdown",
   "id": "a0c82008-e8dc-4cdf-83c8-03bb129e24df",
   "metadata": {},
   "source": [
    "# 7. Calculate the total earnings and spending for both users and masters"
   ]
  },
  {
   "cell_type": "code",
   "execution_count": 47,
   "id": "c206e784-cac5-4c67-8479-767dbf668d4b",
   "metadata": {},
   "outputs": [
    {
     "data": {
      "text/plain": [
       "99147"
      ]
     },
     "execution_count": 47,
     "metadata": {},
     "output_type": "execute_result"
    }
   ],
   "source": [
    "# total earning of guru\n",
    "\n",
    "round(df['astrologersEarnings'].sum())\n",
    "# total earning of guru is 99,147"
   ]
  },
  {
   "cell_type": "code",
   "execution_count": 48,
   "id": "0eaeebaa-2620-4acb-b10d-fd9f5b584c59",
   "metadata": {},
   "outputs": [
    {
     "data": {
      "text/plain": [
       "214066"
      ]
     },
     "execution_count": 48,
     "metadata": {},
     "output_type": "execute_result"
    }
   ],
   "source": [
    "# total spending of users\n",
    "\n",
    "round(df['amount'].sum())\n",
    "\n",
    "# total spending of user is 2,14,066."
   ]
  },
  {
   "cell_type": "markdown",
   "id": "891a2723-7d3c-4469-8e8e-c8820801d798",
   "metadata": {},
   "source": [
    "#  8. Analyze the relationship between TalkTime and Charge"
   ]
  },
  {
   "cell_type": "code",
   "execution_count": 49,
   "id": "73094631-dde9-4612-9848-6e46717e1c26",
   "metadata": {},
   "outputs": [
    {
     "data": {
      "text/plain": [
       "<Figure size 400x300 with 0 Axes>"
      ]
     },
     "execution_count": 49,
     "metadata": {},
     "output_type": "execute_result"
    },
    {
     "data": {
      "text/plain": [
       "<Axes: >"
      ]
     },
     "execution_count": 49,
     "metadata": {},
     "output_type": "execute_result"
    },
    {
     "data": {
      "image/png": "[encoded data removed]",
      "text/plain": [
       "<Figure size 400x300 with 2 Axes>"
      ]
     },
     "metadata": {},
     "output_type": "display_data"
    }
   ],
   "source": [
    "corr=df[['timeDuration','amount']].corr()\n",
    "plt.figure(figsize=(4,3))\n",
    "sns.heatmap(corr,annot=True,cmap='cool')\n",
    "\n",
    "# there is a positive strong corelatio between talktime and charge"
   ]
  },
  {
   "cell_type": "code",
   "execution_count": 50,
   "id": "19be5482-9a1c-4f90-aaaa-56973937f961",
   "metadata": {},
   "outputs": [
    {
     "data": {
      "text/plain": [
       "<Figure size 700x400 with 0 Axes>"
      ]
     },
     "execution_count": 50,
     "metadata": {},
     "output_type": "execute_result"
    },
    {
     "data": {
      "text/plain": [
       "<Axes: xlabel='timeDuration', ylabel='amount'>"
      ]
     },
     "execution_count": 50,
     "metadata": {},
     "output_type": "execute_result"
    },
    {
     "data": {
      "text/plain": [
       "Text(0.5, 1.0, 'Relation between talk-time and charge')"
      ]
     },
     "execution_count": 50,
     "metadata": {},
     "output_type": "execute_result"
    },
    {
     "data": {
      "image/png": "[encoded data removed]",
      "text/plain": [
       "<Figure size 700x400 with 1 Axes>"
      ]
     },
     "metadata": {},
     "output_type": "display_data"
    }
   ],
   "source": [
    "# lets visualize it in scatter plot\n",
    "\n",
    "plt.figure(figsize=(7,4))\n",
    "sns.regplot(x='timeDuration',y='amount',data=df,line_kws={'color':'y'},scatter_kws={'color':'g'})\n",
    "plt.title('Relation between talk-time and charge')\n",
    "\n",
    "# regression line is uppward slopping, which means its a positive relation"
   ]
  },
  {
   "cell_type": "markdown",
   "id": "0f55802f-0d43-4791-9735-762b7db7a3b7",
   "metadata": {},
   "source": [
    "# Task 3: Call Handling Analysis"
   ]
  },
  {
   "cell_type": "markdown",
   "id": "d878c48f-3eb1-4647-9f0b-dd2a41e52255",
   "metadata": {},
   "source": [
    "# 9. Calculate the average time it takes for calls to be connected (ConnectTime- DialTime)."
   ]
  },
  {
   "cell_type": "code",
   "execution_count": 51,
   "id": "0a8f1aba-4e1d-4dbc-b775-f554e35f841c",
   "metadata": {},
   "outputs": [
    {
     "name": "stdout",
     "output_type": "stream",
     "text": [
      "Avg time for call connection in seconds : 3404.6974919185072\n"
     ]
    }
   ],
   "source": [
    "# NOTE : we dont have connect time and dial time columns, we can use createdat and updatedat columns as dial_time and connecttime.\n",
    "\n",
    "df['connection_time']=(df['updatedAt']-df['createdAt']).dt.total_seconds()\n",
    "\n",
    "avg=df['connection_time'].mean()\n",
    "\n",
    "print(f'Avg time for call connection in seconds : {avg}')"
   ]
  },
  {
   "cell_type": "markdown",
   "id": "b01b4d19-5587-4840-b614-52db83a1a6fc",
   "metadata": {},
   "source": [
    "#  10. Identify the most common reason for call disconnection (UnconnectTime- ConnectTime)."
   ]
  },
  {
   "cell_type": "code",
   "execution_count": 52,
   "id": "cccca440-b4b4-4394-87d6-b22bb2164a28",
   "metadata": {},
   "outputs": [],
   "source": [
    "# we dont have disconnection columns because it had 99% of missing data, so we droped the column."
   ]
  },
  {
   "cell_type": "markdown",
   "id": "531b352f-ff6b-4005-850d-60e5d659b04b",
   "metadata": {},
   "source": [
    "#  11. Analyze the HangUpTime patterns and identify any trends."
   ]
  },
  {
   "cell_type": "code",
   "execution_count": 99,
   "id": "774b4886-adfa-46fd-ac3a-bc2ce4ed6c2b",
   "metadata": {},
   "outputs": [
    {
     "data": {
      "text/plain": [
       "<Axes: >"
      ]
     },
     "execution_count": 99,
     "metadata": {},
     "output_type": "execute_result"
    },
    {
     "data": {
      "image/png": "[encoded data removed]",
      "text/plain": [
       "<Figure size 700x400 with 1 Axes>"
      ]
     },
     "metadata": {},
     "output_type": "display_data"
    }
   ],
   "source": [
    "# for hangup patter we will use chat_start_time and chat_end_time\n",
    "\n",
    "df['chatDurationSeconds']=(df['chatEndTime']-df['chatStartTime']).dt.total_seconds()\n",
    "# we got the duration\n",
    "\n",
    "# filling missing values with median\n",
    "\n",
    "df['chatDurationSeconds']=df['chatDurationSeconds'].fillna(df['chatDurationSeconds'].median())\n",
    "\n",
    "# excluding nevative values\n",
    "\n",
    "df=df.loc[df['chatDurationSeconds']>0]\n",
    "\n",
    "# extracting hour of the day from chat_end_time\n",
    "\n",
    "df['hour']=df['chatEndTime'].dt.hour\n",
    "\n",
    "df.groupby('hour')['chatDurationSeconds'].mean().reset_index(drop=True).plot.line(figsize=(7,4),color='skyblue')"
   ]
  },
  {
   "cell_type": "markdown",
   "id": "fed6ce70-7a45-4e15-856f-fd9aab10c715",
   "metadata": {},
   "source": [
    "#  Task 4: Order and Refund Analysis"
   ]
  },
  {
   "cell_type": "markdown",
   "id": "3c226446-2415-4596-b1c2-7e51e5fbeb0e",
   "metadata": {},
   "source": [
    "#  12. Determine the order status distribution for calls."
   ]
  },
  {
   "cell_type": "code",
   "execution_count": 85,
   "id": "a59e679c-93d0-4c5d-a1b1-ec77bfd4d439",
   "metadata": {},
   "outputs": [
    {
     "data": {
      "text/plain": [
       "<Figure size 700x400 with 0 Axes>"
      ]
     },
     "execution_count": 85,
     "metadata": {},
     "output_type": "execute_result"
    },
    {
     "data": {
      "text/plain": [
       "<Axes: xlabel='callStatus', ylabel='count'>"
      ]
     },
     "execution_count": 85,
     "metadata": {},
     "output_type": "execute_result"
    },
    {
     "data": {
      "text/plain": [
       "Text(0.5, 1.0, 'Distribution of callstatus')"
      ]
     },
     "execution_count": 85,
     "metadata": {},
     "output_type": "execute_result"
    },
    {
     "data": {
      "image/png": "[encoded data removed]",
      "text/plain": [
       "<Figure size 700x400 with 1 Axes>"
      ]
     },
     "metadata": {},
     "output_type": "display_data"
    }
   ],
   "source": [
    "# we dont have order status distribution,we will use callstatus column\n",
    "\n",
    "plt.figure(figsize=(7,4))\n",
    "sns.countplot(x='callStatus',data=df,palette='Set2')\n",
    "plt.title('Distribution of callstatus')\n",
    "\n",
    "# note : the unknown column here represent that the majority of users consulted with chat."
   ]
  },
  {
   "cell_type": "markdown",
   "id": "a7bbf08c-2fd2-4301-b783-0c9b7f6e4082",
   "metadata": {},
   "source": [
    "#  13. Calculate the total refund amount and identify the refund status distribution."
   ]
  },
  {
   "cell_type": "code",
   "execution_count": null,
   "id": "5e714249-ad01-4502-9a37-1405dc12eeea",
   "metadata": {},
   "outputs": [],
   "source": [
    "# we droped the refund amount column because it had 99% of missing data, nd there is no way we can impute it with anything"
   ]
  },
  {
   "cell_type": "code",
   "execution_count": 89,
   "id": "f502745b-7cc7-4283-96ff-70ff106bb1ad",
   "metadata": {},
   "outputs": [
    {
     "data": {
      "text/plain": [
       "<Figure size 700x400 with 0 Axes>"
      ]
     },
     "execution_count": 89,
     "metadata": {},
     "output_type": "execute_result"
    },
    {
     "data": {
      "text/plain": [
       "<Axes: xlabel='refundStatus', ylabel='count'>"
      ]
     },
     "execution_count": 89,
     "metadata": {},
     "output_type": "execute_result"
    },
    {
     "data": {
      "text/plain": [
       "Text(0.5, 1.0, 'Distribution of refund status')"
      ]
     },
     "execution_count": 89,
     "metadata": {},
     "output_type": "execute_result"
    },
    {
     "data": {
      "image/png": "[encoded data removed]",
      "text/plain": [
       "<Figure size 700x400 with 1 Axes>"
      ]
     },
     "metadata": {},
     "output_type": "display_data"
    }
   ],
   "source": [
    "# analysing refund status distribution\n",
    "\n",
    "plt.figure(figsize=(7,4))\n",
    "sns.countplot(x='refundStatus',data=df,palette='spring')\n",
    "plt.title('Distribution of refund status')\n",
    "\n",
    "# no money has been refunded"
   ]
  },
  {
   "cell_type": "markdown",
   "id": "215dc9f3-5b67-4e0d-88c3-a2f6d287a0e1",
   "metadata": {},
   "source": [
    "#  7-aAdditional Visualizations"
   ]
  },
  {
   "cell_type": "markdown",
   "id": "fc8afae2-31c9-4f24-b7ed-c2793e6eae1d",
   "metadata": {},
   "source": [
    "#  create a line chart showing the trend in call charges over time."
   ]
  },
  {
   "cell_type": "code",
   "execution_count": 111,
   "id": "20c27a78-0822-442e-a971-119a4e3f39d3",
   "metadata": {},
   "outputs": [
    {
     "data": {
      "text/plain": [
       "<Figure size 1800x500 with 0 Axes>"
      ]
     },
     "execution_count": 111,
     "metadata": {},
     "output_type": "execute_result"
    },
    {
     "data": {
      "text/plain": [
       "[<matplotlib.lines.Line2D at 0x26935066c90>]"
      ]
     },
     "execution_count": 111,
     "metadata": {},
     "output_type": "execute_result"
    },
    {
     "data": {
      "text/plain": [
       "Text(0.5, 1.0, 'Trend of call charges over time')"
      ]
     },
     "execution_count": 111,
     "metadata": {},
     "output_type": "execute_result"
    },
    {
     "data": {
      "text/plain": [
       "Text(0, 0.5, 'Charges')"
      ]
     },
     "execution_count": 111,
     "metadata": {},
     "output_type": "execute_result"
    },
    {
     "data": {
      "text/plain": [
       "Text(0.5, 0, 'Date')"
      ]
     },
     "execution_count": 111,
     "metadata": {},
     "output_type": "execute_result"
    },
    {
     "data": {
      "image/png": "[encoded data removed]",
      "text/plain": [
       "<Figure size 1800x500 with 1 Axes>"
      ]
     },
     "metadata": {},
     "output_type": "display_data"
    }
   ],
   "source": [
    "call_trend = df.groupby(df['createdAt'].dt.date)['amount'].sum()\n",
    "plt.figure(figsize=(18,5))\n",
    "plt.plot(call_trend.index,call_trend,color='g',marker='o')\n",
    "plt.title('Trend of call charges over time')\n",
    "plt.ylabel('Charges')\n",
    "plt.xlabel('Date')"
   ]
  },
  {
   "cell_type": "markdown",
   "id": "19aa2458-e5b1-40a2-afa1-177defd9464b",
   "metadata": {},
   "source": [
    "# Create a scatter plot to analyze the relationship between TalkTime and UserSpend."
   ]
  },
  {
   "cell_type": "code",
   "execution_count": 112,
   "id": "99e94795-a234-4722-a414-25af4a9cb16e",
   "metadata": {},
   "outputs": [
    {
     "data": {
      "text/plain": [
       "<Figure size 700x400 with 0 Axes>"
      ]
     },
     "execution_count": 112,
     "metadata": {},
     "output_type": "execute_result"
    },
    {
     "data": {
      "text/plain": [
       "<Axes: xlabel='timeDuration', ylabel='amount'>"
      ]
     },
     "execution_count": 112,
     "metadata": {},
     "output_type": "execute_result"
    },
    {
     "data": {
      "text/plain": [
       "Text(0.5, 1.0, 'Relation between talk-time and charge')"
      ]
     },
     "execution_count": 112,
     "metadata": {},
     "output_type": "execute_result"
    },
    {
     "data": {
      "image/png": "[encoded data removed]",
      "text/plain": [
       "<Figure size 700x400 with 1 Axes>"
      ]
     },
     "metadata": {},
     "output_type": "display_data"
    }
   ],
   "source": [
    "plt.figure(figsize=(7,4))\n",
    "sns.regplot(x='timeDuration',y='amount',data=df,line_kws={'color':'y'},scatter_kws={'color':'g'})\n",
    "plt.title('Relation between talk-time and charge')\n",
    "\n",
    "# there is a positive strong corelation between talk time nd charges\n",
    "# if the talk time increases, charges also increases"
   ]
  },
  {
   "cell_type": "code",
   "execution_count": null,
   "id": "150fc420-9645-4a14-927c-8e32b0b4c883",
   "metadata": {},
   "outputs": [],
   "source": []
  },
  {
   "cell_type": "code",
   "execution_count": null,
   "id": "c95b13b1-56bc-4c7a-8923-773e9fcea64e",
   "metadata": {},
   "outputs": [],
   "source": []
  },
  {
   "cell_type": "code",
   "execution_count": null,
   "id": "326c9820-e814-45d1-99d1-f28873772f52",
   "metadata": {},
   "outputs": [],
   "source": []
  },
  {
   "cell_type": "code",
   "execution_count": null,
   "id": "005c9c49-2c0e-434c-bd0b-99b0486bddd6",
   "metadata": {},
   "outputs": [],
   "source": []
  },
  {
   "cell_type": "code",
   "execution_count": 78,
   "id": "7a063bce-d009-4765-90ab-07f0cf9c1073",
   "metadata": {},
   "outputs": [
    {
     "data": {
      "text/html": [
       "<div>\n",
       "<style scoped>\n",
       "    .dataframe tbody tr th:only-of-type {\n",
       "        vertical-align: middle;\n",
       "    }\n",
       "\n",
       "    .dataframe tbody tr th {\n",
       "        vertical-align: top;\n",
       "    }\n",
       "\n",
       "    .dataframe thead th {\n",
       "        text-align: right;\n",
       "    }\n",
       "</style>\n",
       "<table border=\"1\" class=\"dataframe\">\n",
       "  <thead>\n",
       "    <tr style=\"text-align: right;\">\n",
       "      <th></th>\n",
       "      <th>_id</th>\n",
       "      <th>user</th>\n",
       "      <th>chatStatus</th>\n",
       "      <th>guru</th>\n",
       "      <th>guruName</th>\n",
       "      <th>gid</th>\n",
       "      <th>uid</th>\n",
       "      <th>consultationType</th>\n",
       "      <th>website</th>\n",
       "      <th>refundStatus</th>\n",
       "      <th>isWhiteListUser</th>\n",
       "      <th>chatSeconds</th>\n",
       "      <th>queue</th>\n",
       "      <th>freeCall</th>\n",
       "      <th>freeChat</th>\n",
       "      <th>createdAt</th>\n",
       "      <th>updatedAt</th>\n",
       "      <th>__v</th>\n",
       "      <th>statementEntryId</th>\n",
       "      <th>chatStartTime</th>\n",
       "      <th>chatEndTime</th>\n",
       "      <th>timeDuration</th>\n",
       "      <th>callChannel</th>\n",
       "      <th>callStatus</th>\n",
       "      <th>amount</th>\n",
       "      <th>astrologerCallStatus</th>\n",
       "      <th>astrologerOnCallDuration</th>\n",
       "      <th>astrologersEarnings</th>\n",
       "      <th>netAmount</th>\n",
       "      <th>region</th>\n",
       "      <th>userCallStatus</th>\n",
       "      <th>userOnCallDuration</th>\n",
       "      <th>hideHistory</th>\n",
       "      <th>offer</th>\n",
       "      <th>source</th>\n",
       "      <th>connection_time</th>\n",
       "      <th>chatDurationSeconds</th>\n",
       "      <th>hour</th>\n",
       "    </tr>\n",
       "  </thead>\n",
       "  <tbody>\n",
       "    <tr>\n",
       "      <th>0</th>\n",
       "      <td>656922f2919324acb6e87139</td>\n",
       "      <td>65691b0c919324acb6e7e046</td>\n",
       "      <td>incomplete</td>\n",
       "      <td>65054786f5f203225bfcdd0d</td>\n",
       "      <td>Astro  Sanjeev</td>\n",
       "      <td>95</td>\n",
       "      <td>30129</td>\n",
       "      <td>Chat</td>\n",
       "      <td>gurucool</td>\n",
       "      <td>no-refund</td>\n",
       "      <td>False</td>\n",
       "      <td>300.0</td>\n",
       "      <td>False</td>\n",
       "      <td>False</td>\n",
       "      <td>True</td>\n",
       "      <td>2023-12-01 00:04:02.993000+00:00</td>\n",
       "      <td>2023-12-01 00:07:33.833000+00:00</td>\n",
       "      <td>0</td>\n",
       "      <td>656922f3919324acb6e8713b</td>\n",
       "      <td>2023-12-01 00:07:33.248000+00:00</td>\n",
       "      <td>2023-12-01 00:07:33.773000+00:00</td>\n",
       "      <td>0.008750</td>\n",
       "      <td>unknown</td>\n",
       "      <td>unknown</td>\n",
       "      <td>0.00</td>\n",
       "      <td>unknown</td>\n",
       "      <td>0.0</td>\n",
       "      <td>0.000</td>\n",
       "      <td>0.00</td>\n",
       "      <td>unknown</td>\n",
       "      <td>unknown</td>\n",
       "      <td>0.0</td>\n",
       "      <td>False</td>\n",
       "      <td>no offer</td>\n",
       "      <td>unknown</td>\n",
       "      <td>210.840</td>\n",
       "      <td>0.525</td>\n",
       "      <td>0.0</td>\n",
       "    </tr>\n",
       "    <tr>\n",
       "      <th>1</th>\n",
       "      <td>65692413919324acb6e87441</td>\n",
       "      <td>65691b0c919324acb6e7e046</td>\n",
       "      <td>incomplete</td>\n",
       "      <td>65054786f5f203225bfcdd0d</td>\n",
       "      <td>Astro  Sanjeev</td>\n",
       "      <td>95</td>\n",
       "      <td>30129</td>\n",
       "      <td>Chat</td>\n",
       "      <td>gurucool</td>\n",
       "      <td>no-refund</td>\n",
       "      <td>False</td>\n",
       "      <td>300.0</td>\n",
       "      <td>False</td>\n",
       "      <td>False</td>\n",
       "      <td>True</td>\n",
       "      <td>2023-12-01 00:08:51.903000+00:00</td>\n",
       "      <td>2023-12-01 00:09:56.111000+00:00</td>\n",
       "      <td>0</td>\n",
       "      <td>65692413919324acb6e87443</td>\n",
       "      <td>2023-12-01 00:09:55.808000+00:00</td>\n",
       "      <td>2023-12-01 00:09:56.052000+00:00</td>\n",
       "      <td>0.004067</td>\n",
       "      <td>unknown</td>\n",
       "      <td>unknown</td>\n",
       "      <td>0.00</td>\n",
       "      <td>unknown</td>\n",
       "      <td>0.0</td>\n",
       "      <td>0.000</td>\n",
       "      <td>0.00</td>\n",
       "      <td>unknown</td>\n",
       "      <td>unknown</td>\n",
       "      <td>0.0</td>\n",
       "      <td>False</td>\n",
       "      <td>no offer</td>\n",
       "      <td>unknown</td>\n",
       "      <td>64.208</td>\n",
       "      <td>0.244</td>\n",
       "      <td>0.0</td>\n",
       "    </tr>\n",
       "    <tr>\n",
       "      <th>2</th>\n",
       "      <td>65692612919324acb6e87738</td>\n",
       "      <td>656528dcee2b1ab52f019119</td>\n",
       "      <td>incomplete</td>\n",
       "      <td>65054786f5f203225bfcdd0d</td>\n",
       "      <td>Astro  Sanjeev</td>\n",
       "      <td>95</td>\n",
       "      <td>28743</td>\n",
       "      <td>Chat</td>\n",
       "      <td>gurucool</td>\n",
       "      <td>no-refund</td>\n",
       "      <td>False</td>\n",
       "      <td>300.0</td>\n",
       "      <td>False</td>\n",
       "      <td>False</td>\n",
       "      <td>True</td>\n",
       "      <td>2023-12-01 00:17:22.270000+00:00</td>\n",
       "      <td>2023-12-01 00:22:04.382000+00:00</td>\n",
       "      <td>0</td>\n",
       "      <td>65692612919324acb6e8773a</td>\n",
       "      <td>2023-12-01 00:22:04.072000+00:00</td>\n",
       "      <td>2023-12-01 00:22:04.325000+00:00</td>\n",
       "      <td>0.004217</td>\n",
       "      <td>unknown</td>\n",
       "      <td>unknown</td>\n",
       "      <td>0.00</td>\n",
       "      <td>unknown</td>\n",
       "      <td>0.0</td>\n",
       "      <td>0.000</td>\n",
       "      <td>0.00</td>\n",
       "      <td>unknown</td>\n",
       "      <td>unknown</td>\n",
       "      <td>0.0</td>\n",
       "      <td>False</td>\n",
       "      <td>no offer</td>\n",
       "      <td>unknown</td>\n",
       "      <td>282.112</td>\n",
       "      <td>0.253</td>\n",
       "      <td>0.0</td>\n",
       "    </tr>\n",
       "    <tr>\n",
       "      <th>3</th>\n",
       "      <td>656927c9919324acb6e87b2f</td>\n",
       "      <td>6568ee9f919324acb6e77e53</td>\n",
       "      <td>incomplete</td>\n",
       "      <td>65054786f5f203225bfcdd0d</td>\n",
       "      <td>Astro  Sanjeev</td>\n",
       "      <td>95</td>\n",
       "      <td>30120</td>\n",
       "      <td>Chat</td>\n",
       "      <td>gurucool</td>\n",
       "      <td>no-refund</td>\n",
       "      <td>False</td>\n",
       "      <td>300.0</td>\n",
       "      <td>False</td>\n",
       "      <td>False</td>\n",
       "      <td>True</td>\n",
       "      <td>2023-12-01 00:24:41.672000+00:00</td>\n",
       "      <td>2023-12-01 00:29:44.022000+00:00</td>\n",
       "      <td>0</td>\n",
       "      <td>656927c9919324acb6e87b31</td>\n",
       "      <td>2023-12-01 00:29:43.556000+00:00</td>\n",
       "      <td>2023-12-01 00:29:43.960000+00:00</td>\n",
       "      <td>0.006733</td>\n",
       "      <td>unknown</td>\n",
       "      <td>unknown</td>\n",
       "      <td>0.00</td>\n",
       "      <td>unknown</td>\n",
       "      <td>0.0</td>\n",
       "      <td>0.000</td>\n",
       "      <td>0.00</td>\n",
       "      <td>unknown</td>\n",
       "      <td>unknown</td>\n",
       "      <td>0.0</td>\n",
       "      <td>False</td>\n",
       "      <td>no offer</td>\n",
       "      <td>unknown</td>\n",
       "      <td>302.350</td>\n",
       "      <td>0.404</td>\n",
       "      <td>0.0</td>\n",
       "    </tr>\n",
       "    <tr>\n",
       "      <th>4</th>\n",
       "      <td>65692d75919324acb6e882dd</td>\n",
       "      <td>65629cfc4232eb704d712d98</td>\n",
       "      <td>failed</td>\n",
       "      <td>65054786f5f203225bfcdd0d</td>\n",
       "      <td>Astro  Sanjeev</td>\n",
       "      <td>95</td>\n",
       "      <td>27790</td>\n",
       "      <td>Chat</td>\n",
       "      <td>gurucool</td>\n",
       "      <td>no-refund</td>\n",
       "      <td>False</td>\n",
       "      <td>300.0</td>\n",
       "      <td>False</td>\n",
       "      <td>False</td>\n",
       "      <td>False</td>\n",
       "      <td>2023-12-01 00:48:53.744000+00:00</td>\n",
       "      <td>2023-12-01 00:50:33.153000+00:00</td>\n",
       "      <td>0</td>\n",
       "      <td>65692d75919324acb6e882df</td>\n",
       "      <td>NaT</td>\n",
       "      <td>NaT</td>\n",
       "      <td>0.000000</td>\n",
       "      <td>unknown</td>\n",
       "      <td>unknown</td>\n",
       "      <td>0.00</td>\n",
       "      <td>unknown</td>\n",
       "      <td>0.0</td>\n",
       "      <td>0.000</td>\n",
       "      <td>0.00</td>\n",
       "      <td>unknown</td>\n",
       "      <td>unknown</td>\n",
       "      <td>0.0</td>\n",
       "      <td>False</td>\n",
       "      <td>no offer</td>\n",
       "      <td>unknown</td>\n",
       "      <td>99.409</td>\n",
       "      <td>NaN</td>\n",
       "      <td>NaN</td>\n",
       "    </tr>\n",
       "    <tr>\n",
       "      <th>...</th>\n",
       "      <td>...</td>\n",
       "      <td>...</td>\n",
       "      <td>...</td>\n",
       "      <td>...</td>\n",
       "      <td>...</td>\n",
       "      <td>...</td>\n",
       "      <td>...</td>\n",
       "      <td>...</td>\n",
       "      <td>...</td>\n",
       "      <td>...</td>\n",
       "      <td>...</td>\n",
       "      <td>...</td>\n",
       "      <td>...</td>\n",
       "      <td>...</td>\n",
       "      <td>...</td>\n",
       "      <td>...</td>\n",
       "      <td>...</td>\n",
       "      <td>...</td>\n",
       "      <td>...</td>\n",
       "      <td>...</td>\n",
       "      <td>...</td>\n",
       "      <td>...</td>\n",
       "      <td>...</td>\n",
       "      <td>...</td>\n",
       "      <td>...</td>\n",
       "      <td>...</td>\n",
       "      <td>...</td>\n",
       "      <td>...</td>\n",
       "      <td>...</td>\n",
       "      <td>...</td>\n",
       "      <td>...</td>\n",
       "      <td>...</td>\n",
       "      <td>...</td>\n",
       "      <td>...</td>\n",
       "      <td>...</td>\n",
       "      <td>...</td>\n",
       "      <td>...</td>\n",
       "      <td>...</td>\n",
       "    </tr>\n",
       "    <tr>\n",
       "      <th>28022</th>\n",
       "      <td>6595ef62849de2bb564ed9fb</td>\n",
       "      <td>6592ef86270572b0ca26a3e3</td>\n",
       "      <td>completed</td>\n",
       "      <td>6522d40f0562f2f5e506c1c4</td>\n",
       "      <td>Super  Guru Ji</td>\n",
       "      <td>227</td>\n",
       "      <td>43361</td>\n",
       "      <td>Chat</td>\n",
       "      <td>gurucool</td>\n",
       "      <td>no-refund</td>\n",
       "      <td>False</td>\n",
       "      <td>2580.0</td>\n",
       "      <td>False</td>\n",
       "      <td>False</td>\n",
       "      <td>False</td>\n",
       "      <td>2024-01-03 23:36:02.872000+00:00</td>\n",
       "      <td>2024-01-03 23:37:57.348000+00:00</td>\n",
       "      <td>0</td>\n",
       "      <td>6595ef62849de2bb564ed9fd</td>\n",
       "      <td>2024-01-03 23:36:10.118000+00:00</td>\n",
       "      <td>2024-01-03 23:37:57.259000+00:00</td>\n",
       "      <td>1.616667</td>\n",
       "      <td>unknown</td>\n",
       "      <td>unknown</td>\n",
       "      <td>14.55</td>\n",
       "      <td>completed</td>\n",
       "      <td>0.0</td>\n",
       "      <td>7.275</td>\n",
       "      <td>14.55</td>\n",
       "      <td>Indian</td>\n",
       "      <td>completed</td>\n",
       "      <td>0.0</td>\n",
       "      <td>False</td>\n",
       "      <td>normal</td>\n",
       "      <td>Test</td>\n",
       "      <td>114.476</td>\n",
       "      <td>107.141</td>\n",
       "      <td>23.0</td>\n",
       "    </tr>\n",
       "    <tr>\n",
       "      <th>28023</th>\n",
       "      <td>6595f1f3849de2bb564edd7e</td>\n",
       "      <td>6592ef86270572b0ca26a3e3</td>\n",
       "      <td>unknown</td>\n",
       "      <td>65054784f5f203225bfcdcd1</td>\n",
       "      <td>Tarot  Rupanshi</td>\n",
       "      <td>74</td>\n",
       "      <td>43361</td>\n",
       "      <td>Call</td>\n",
       "      <td>app</td>\n",
       "      <td>no-refund</td>\n",
       "      <td>False</td>\n",
       "      <td>0.0</td>\n",
       "      <td>False</td>\n",
       "      <td>False</td>\n",
       "      <td>False</td>\n",
       "      <td>2024-01-03 23:46:59.765000+00:00</td>\n",
       "      <td>2024-01-03 23:47:50.319000+00:00</td>\n",
       "      <td>0</td>\n",
       "      <td>6595f1f4849de2bb564edd81</td>\n",
       "      <td>NaT</td>\n",
       "      <td>NaT</td>\n",
       "      <td>0.000000</td>\n",
       "      <td>Normal</td>\n",
       "      <td>failed</td>\n",
       "      <td>0.00</td>\n",
       "      <td>failed</td>\n",
       "      <td>0.0</td>\n",
       "      <td>0.000</td>\n",
       "      <td>0.00</td>\n",
       "      <td>unknown</td>\n",
       "      <td>unknown</td>\n",
       "      <td>0.0</td>\n",
       "      <td>False</td>\n",
       "      <td>normal</td>\n",
       "      <td>Test</td>\n",
       "      <td>50.554</td>\n",
       "      <td>NaN</td>\n",
       "      <td>NaN</td>\n",
       "    </tr>\n",
       "    <tr>\n",
       "      <th>28024</th>\n",
       "      <td>6595f23d849de2bb564ee1c9</td>\n",
       "      <td>6592ef86270572b0ca26a3e3</td>\n",
       "      <td>unknown</td>\n",
       "      <td>65054786f5f203225bfcdd0d</td>\n",
       "      <td>Astro  Sanjeev</td>\n",
       "      <td>95</td>\n",
       "      <td>43361</td>\n",
       "      <td>Call</td>\n",
       "      <td>app</td>\n",
       "      <td>no-refund</td>\n",
       "      <td>False</td>\n",
       "      <td>0.0</td>\n",
       "      <td>False</td>\n",
       "      <td>False</td>\n",
       "      <td>False</td>\n",
       "      <td>2024-01-03 23:48:13.271000+00:00</td>\n",
       "      <td>2024-01-03 23:48:37.907000+00:00</td>\n",
       "      <td>0</td>\n",
       "      <td>6595f23d849de2bb564ee1cc</td>\n",
       "      <td>NaT</td>\n",
       "      <td>NaT</td>\n",
       "      <td>0.000000</td>\n",
       "      <td>Normal</td>\n",
       "      <td>failed</td>\n",
       "      <td>0.00</td>\n",
       "      <td>completed</td>\n",
       "      <td>9.0</td>\n",
       "      <td>0.000</td>\n",
       "      <td>0.00</td>\n",
       "      <td>unknown</td>\n",
       "      <td>canceled</td>\n",
       "      <td>0.0</td>\n",
       "      <td>False</td>\n",
       "      <td>normal</td>\n",
       "      <td>Test</td>\n",
       "      <td>24.636</td>\n",
       "      <td>NaN</td>\n",
       "      <td>NaN</td>\n",
       "    </tr>\n",
       "    <tr>\n",
       "      <th>28025</th>\n",
       "      <td>6595f384883c1bbae79c58e3</td>\n",
       "      <td>6595f36c883c1bbae79c57c9</td>\n",
       "      <td>failed</td>\n",
       "      <td>6522d40f0562f2f5e506c1c4</td>\n",
       "      <td>Super  Guru Ji</td>\n",
       "      <td>227</td>\n",
       "      <td>44005</td>\n",
       "      <td>Chat</td>\n",
       "      <td>gurucool</td>\n",
       "      <td>no-refund</td>\n",
       "      <td>False</td>\n",
       "      <td>300.0</td>\n",
       "      <td>False</td>\n",
       "      <td>False</td>\n",
       "      <td>False</td>\n",
       "      <td>2024-01-03 23:53:40.997000+00:00</td>\n",
       "      <td>2024-01-03 23:54:16.451000+00:00</td>\n",
       "      <td>0</td>\n",
       "      <td>6595f385883c1bbae79c58e5</td>\n",
       "      <td>NaT</td>\n",
       "      <td>NaT</td>\n",
       "      <td>0.000000</td>\n",
       "      <td>unknown</td>\n",
       "      <td>unknown</td>\n",
       "      <td>0.00</td>\n",
       "      <td>no-answer</td>\n",
       "      <td>0.0</td>\n",
       "      <td>0.000</td>\n",
       "      <td>0.00</td>\n",
       "      <td>unknown</td>\n",
       "      <td>unknown</td>\n",
       "      <td>0.0</td>\n",
       "      <td>False</td>\n",
       "      <td>first</td>\n",
       "      <td>Production</td>\n",
       "      <td>35.454</td>\n",
       "      <td>NaN</td>\n",
       "      <td>NaN</td>\n",
       "    </tr>\n",
       "    <tr>\n",
       "      <th>28026</th>\n",
       "      <td>6595f407883c1bbae79c6e11</td>\n",
       "      <td>6595f36c883c1bbae79c57c9</td>\n",
       "      <td>incomplete</td>\n",
       "      <td>6522d40f0562f2f5e506c1c4</td>\n",
       "      <td>Super  Guru Ji</td>\n",
       "      <td>227</td>\n",
       "      <td>44005</td>\n",
       "      <td>Chat</td>\n",
       "      <td>gurucool</td>\n",
       "      <td>no-refund</td>\n",
       "      <td>False</td>\n",
       "      <td>300.0</td>\n",
       "      <td>False</td>\n",
       "      <td>False</td>\n",
       "      <td>False</td>\n",
       "      <td>2024-01-03 23:55:51.547000+00:00</td>\n",
       "      <td>2024-01-03 23:57:12.479000+00:00</td>\n",
       "      <td>0</td>\n",
       "      <td>6595f407883c1bbae79c6e13</td>\n",
       "      <td>2024-01-03 23:57:11.947000+00:00</td>\n",
       "      <td>2024-01-03 23:57:12.445000+00:00</td>\n",
       "      <td>0.000000</td>\n",
       "      <td>unknown</td>\n",
       "      <td>unknown</td>\n",
       "      <td>0.00</td>\n",
       "      <td>unknown</td>\n",
       "      <td>0.0</td>\n",
       "      <td>0.000</td>\n",
       "      <td>0.00</td>\n",
       "      <td>unknown</td>\n",
       "      <td>unknown</td>\n",
       "      <td>0.0</td>\n",
       "      <td>False</td>\n",
       "      <td>first</td>\n",
       "      <td>Production</td>\n",
       "      <td>80.932</td>\n",
       "      <td>0.498</td>\n",
       "      <td>23.0</td>\n",
       "    </tr>\n",
       "  </tbody>\n",
       "</table>\n",
       "<p>28027 rows × 38 columns</p>\n",
       "</div>"
      ],
      "text/plain": [
       "                            _id                      user  chatStatus  \\\n",
       "0      656922f2919324acb6e87139  65691b0c919324acb6e7e046  incomplete   \n",
       "1      65692413919324acb6e87441  65691b0c919324acb6e7e046  incomplete   \n",
       "2      65692612919324acb6e87738  656528dcee2b1ab52f019119  incomplete   \n",
       "3      656927c9919324acb6e87b2f  6568ee9f919324acb6e77e53  incomplete   \n",
       "4      65692d75919324acb6e882dd  65629cfc4232eb704d712d98      failed   \n",
       "...                         ...                       ...         ...   \n",
       "28022  6595ef62849de2bb564ed9fb  6592ef86270572b0ca26a3e3   completed   \n",
       "28023  6595f1f3849de2bb564edd7e  6592ef86270572b0ca26a3e3     unknown   \n",
       "28024  6595f23d849de2bb564ee1c9  6592ef86270572b0ca26a3e3     unknown   \n",
       "28025  6595f384883c1bbae79c58e3  6595f36c883c1bbae79c57c9      failed   \n",
       "28026  6595f407883c1bbae79c6e11  6595f36c883c1bbae79c57c9  incomplete   \n",
       "\n",
       "                           guru          guruName  gid    uid  \\\n",
       "0      65054786f5f203225bfcdd0d    Astro  Sanjeev   95  30129   \n",
       "1      65054786f5f203225bfcdd0d    Astro  Sanjeev   95  30129   \n",
       "2      65054786f5f203225bfcdd0d    Astro  Sanjeev   95  28743   \n",
       "3      65054786f5f203225bfcdd0d    Astro  Sanjeev   95  30120   \n",
       "4      65054786f5f203225bfcdd0d    Astro  Sanjeev   95  27790   \n",
       "...                         ...               ...  ...    ...   \n",
       "28022  6522d40f0562f2f5e506c1c4    Super  Guru Ji  227  43361   \n",
       "28023  65054784f5f203225bfcdcd1  Tarot  Rupanshi    74  43361   \n",
       "28024  65054786f5f203225bfcdd0d    Astro  Sanjeev   95  43361   \n",
       "28025  6522d40f0562f2f5e506c1c4    Super  Guru Ji  227  44005   \n",
       "28026  6522d40f0562f2f5e506c1c4    Super  Guru Ji  227  44005   \n",
       "\n",
       "      consultationType   website refundStatus  isWhiteListUser  chatSeconds  \\\n",
       "0                 Chat  gurucool    no-refund            False        300.0   \n",
       "1                 Chat  gurucool    no-refund            False        300.0   \n",
       "2                 Chat  gurucool    no-refund            False        300.0   \n",
       "3                 Chat  gurucool    no-refund            False        300.0   \n",
       "4                 Chat  gurucool    no-refund            False        300.0   \n",
       "...                ...       ...          ...              ...          ...   \n",
       "28022             Chat  gurucool    no-refund            False       2580.0   \n",
       "28023             Call       app    no-refund            False          0.0   \n",
       "28024             Call       app    no-refund            False          0.0   \n",
       "28025             Chat  gurucool    no-refund            False        300.0   \n",
       "28026             Chat  gurucool    no-refund            False        300.0   \n",
       "\n",
       "       queue  freeCall  freeChat                        createdAt  \\\n",
       "0      False     False      True 2023-12-01 00:04:02.993000+00:00   \n",
       "1      False     False      True 2023-12-01 00:08:51.903000+00:00   \n",
       "2      False     False      True 2023-12-01 00:17:22.270000+00:00   \n",
       "3      False     False      True 2023-12-01 00:24:41.672000+00:00   \n",
       "4      False     False     False 2023-12-01 00:48:53.744000+00:00   \n",
       "...      ...       ...       ...                              ...   \n",
       "28022  False     False     False 2024-01-03 23:36:02.872000+00:00   \n",
       "28023  False     False     False 2024-01-03 23:46:59.765000+00:00   \n",
       "28024  False     False     False 2024-01-03 23:48:13.271000+00:00   \n",
       "28025  False     False     False 2024-01-03 23:53:40.997000+00:00   \n",
       "28026  False     False     False 2024-01-03 23:55:51.547000+00:00   \n",
       "\n",
       "                             updatedAt  __v          statementEntryId  \\\n",
       "0     2023-12-01 00:07:33.833000+00:00    0  656922f3919324acb6e8713b   \n",
       "1     2023-12-01 00:09:56.111000+00:00    0  65692413919324acb6e87443   \n",
       "2     2023-12-01 00:22:04.382000+00:00    0  65692612919324acb6e8773a   \n",
       "3     2023-12-01 00:29:44.022000+00:00    0  656927c9919324acb6e87b31   \n",
       "4     2023-12-01 00:50:33.153000+00:00    0  65692d75919324acb6e882df   \n",
       "...                                ...  ...                       ...   \n",
       "28022 2024-01-03 23:37:57.348000+00:00    0  6595ef62849de2bb564ed9fd   \n",
       "28023 2024-01-03 23:47:50.319000+00:00    0  6595f1f4849de2bb564edd81   \n",
       "28024 2024-01-03 23:48:37.907000+00:00    0  6595f23d849de2bb564ee1cc   \n",
       "28025 2024-01-03 23:54:16.451000+00:00    0  6595f385883c1bbae79c58e5   \n",
       "28026 2024-01-03 23:57:12.479000+00:00    0  6595f407883c1bbae79c6e13   \n",
       "\n",
       "                         chatStartTime                      chatEndTime  \\\n",
       "0     2023-12-01 00:07:33.248000+00:00 2023-12-01 00:07:33.773000+00:00   \n",
       "1     2023-12-01 00:09:55.808000+00:00 2023-12-01 00:09:56.052000+00:00   \n",
       "2     2023-12-01 00:22:04.072000+00:00 2023-12-01 00:22:04.325000+00:00   \n",
       "3     2023-12-01 00:29:43.556000+00:00 2023-12-01 00:29:43.960000+00:00   \n",
       "4                                  NaT                              NaT   \n",
       "...                                ...                              ...   \n",
       "28022 2024-01-03 23:36:10.118000+00:00 2024-01-03 23:37:57.259000+00:00   \n",
       "28023                              NaT                              NaT   \n",
       "28024                              NaT                              NaT   \n",
       "28025                              NaT                              NaT   \n",
       "28026 2024-01-03 23:57:11.947000+00:00 2024-01-03 23:57:12.445000+00:00   \n",
       "\n",
       "       timeDuration callChannel callStatus  amount astrologerCallStatus  \\\n",
       "0          0.008750     unknown    unknown    0.00              unknown   \n",
       "1          0.004067     unknown    unknown    0.00              unknown   \n",
       "2          0.004217     unknown    unknown    0.00              unknown   \n",
       "3          0.006733     unknown    unknown    0.00              unknown   \n",
       "4          0.000000     unknown    unknown    0.00              unknown   \n",
       "...             ...         ...        ...     ...                  ...   \n",
       "28022      1.616667     unknown    unknown   14.55            completed   \n",
       "28023      0.000000      Normal     failed    0.00               failed   \n",
       "28024      0.000000      Normal     failed    0.00            completed   \n",
       "28025      0.000000     unknown    unknown    0.00            no-answer   \n",
       "28026      0.000000     unknown    unknown    0.00              unknown   \n",
       "\n",
       "       astrologerOnCallDuration  astrologersEarnings  netAmount   region  \\\n",
       "0                           0.0                0.000       0.00  unknown   \n",
       "1                           0.0                0.000       0.00  unknown   \n",
       "2                           0.0                0.000       0.00  unknown   \n",
       "3                           0.0                0.000       0.00  unknown   \n",
       "4                           0.0                0.000       0.00  unknown   \n",
       "...                         ...                  ...        ...      ...   \n",
       "28022                       0.0                7.275      14.55   Indian   \n",
       "28023                       0.0                0.000       0.00  unknown   \n",
       "28024                       9.0                0.000       0.00  unknown   \n",
       "28025                       0.0                0.000       0.00  unknown   \n",
       "28026                       0.0                0.000       0.00  unknown   \n",
       "\n",
       "      userCallStatus  userOnCallDuration  hideHistory     offer      source  \\\n",
       "0            unknown                 0.0        False  no offer     unknown   \n",
       "1            unknown                 0.0        False  no offer     unknown   \n",
       "2            unknown                 0.0        False  no offer     unknown   \n",
       "3            unknown                 0.0        False  no offer     unknown   \n",
       "4            unknown                 0.0        False  no offer     unknown   \n",
       "...              ...                 ...          ...       ...         ...   \n",
       "28022      completed                 0.0        False    normal        Test   \n",
       "28023        unknown                 0.0        False    normal        Test   \n",
       "28024       canceled                 0.0        False    normal        Test   \n",
       "28025        unknown                 0.0        False     first  Production   \n",
       "28026        unknown                 0.0        False     first  Production   \n",
       "\n",
       "       connection_time  chatDurationSeconds  hour  \n",
       "0              210.840                0.525   0.0  \n",
       "1               64.208                0.244   0.0  \n",
       "2              282.112                0.253   0.0  \n",
       "3              302.350                0.404   0.0  \n",
       "4               99.409                  NaN   NaN  \n",
       "...                ...                  ...   ...  \n",
       "28022          114.476              107.141  23.0  \n",
       "28023           50.554                  NaN   NaN  \n",
       "28024           24.636                  NaN   NaN  \n",
       "28025           35.454                  NaN   NaN  \n",
       "28026           80.932                0.498  23.0  \n",
       "\n",
       "[28027 rows x 38 columns]"
      ]
     },
     "execution_count": 78,
     "metadata": {},
     "output_type": "execute_result"
    }
   ],
   "source": [
    "df"
   ]
  },
  {
   "cell_type": "code",
   "execution_count": null,
   "id": "842638b2-1aba-4818-bf44-aca086e687eb",
   "metadata": {},
   "outputs": [],
   "source": []
  },
  {
   "cell_type": "code",
   "execution_count": null,
   "id": "567579f6-242c-430d-83a5-1db1191f135c",
   "metadata": {},
   "outputs": [],
   "source": []
  }
 ],
 "metadata": {
  "kernelspec": {
   "display_name": "Python 3 (ipykernel)",
   "language": "python",
   "name": "python3"
  },
  "language_info": {
   "codemirror_mode": {
    "name": "ipython",
    "version": 3
   },
   "file_extension": ".py",
   "mimetype": "text/x-python",
   "name": "python",
   "nbconvert_exporter": "python",
   "pygments_lexer": "ipython3",
   "version": "3.11.7"
  }
 },
 "nbformat": 4,
 "nbformat_minor": 5
}
